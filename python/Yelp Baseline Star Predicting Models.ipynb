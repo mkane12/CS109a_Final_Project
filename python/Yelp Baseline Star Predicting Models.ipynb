{
 "cells": [
  {
   "cell_type": "code",
   "execution_count": 77,
   "metadata": {
    "collapsed": false
   },
   "outputs": [],
   "source": [
    "import numpy as np\n",
    "import pandas as pd\n",
    "from urllib2 import Request, urlopen\n",
    "import json\n",
    "import sys\n",
    "from pandas.io.json import json_normalize\n",
    "from sklearn.feature_extraction.text import CountVectorizer\n",
    "from sklearn.preprocessing import LabelEncoder\n",
    "from sklearn.decomposition import PCA\n",
    "from sklearn.feature_extraction.text import TfidfTransformer\n",
    "from sklearn.naive_bayes import MultinomialNB\n",
    "from sklearn.pipeline import Pipeline\n",
    "from sklearn.grid_search import GridSearchCV\n",
    "# import scipy as sp\n",
    "# from sklearn import preprocessing\n",
    "# from sklearn import linear_model\n",
    "from sklearn.cross_validation import KFold, cross_val_score\n",
    "# from sklearn.linear_model import LogisticRegression\n",
    "# from sklearn.discriminant_analysis import LinearDiscriminantAnalysis as LDA\n",
    "from sklearn.ensemble import RandomForestClassifier\n",
    "# from sklearn.discriminant_analysis import QuadraticDiscriminantAnalysis as QDA\n",
    "from sklearn.linear_model import LogisticRegression as LogReg\n",
    "from sklearn.linear_model import LogisticRegressionCV as LogRegCV\n",
    "# from statsmodels.regression.linear_model import OLS\n",
    "# import sklearn.preprocessing as Preprocessing\n",
    "# from sklearn.preprocessing import StandardScaler as Standardize\n",
    "# import itertools as it\n",
    "# from sklearn.neighbors import KNeighborsClassifier as KNN\n",
    "# from sklearn.tree import DecisionTreeClassifier as DecisionTree\n",
    "# from sklearn.ensemble import RandomForestClassifier as RandomForest\n",
    "# from sklearn.svm import SVC\n",
    "# from sklearn.cross_validation import train_test_split\n",
    "# from sklearn import discriminant_analysis\n",
    "from sklearn import svm\n",
    "import matplotlib\n",
    "import matplotlib.pyplot as plt\n",
    "from mpl_toolkits.mplot3d import Axes3D\n",
    "from sklearn.preprocessing import LabelEncoder\n",
    "%matplotlib inline"
   ]
  },
  {
   "cell_type": "code",
   "execution_count": 6,
   "metadata": {
    "collapsed": false
   },
   "outputs": [
    {
     "data": {
      "text/html": [
       "<div>\n",
       "<table border=\"1\" class=\"dataframe\">\n",
       "  <thead>\n",
       "    <tr style=\"text-align: right;\">\n",
       "      <th></th>\n",
       "      <th>business_id</th>\n",
       "      <th>cool</th>\n",
       "      <th>date</th>\n",
       "      <th>funny</th>\n",
       "      <th>stars</th>\n",
       "      <th>text</th>\n",
       "      <th>useful</th>\n",
       "      <th>user_id</th>\n",
       "    </tr>\n",
       "  </thead>\n",
       "  <tbody>\n",
       "    <tr>\n",
       "      <th>0</th>\n",
       "      <td>vT12uXtdBQ10_lUcl-M40w</td>\n",
       "      <td>0</td>\n",
       "      <td>2015-01-01</td>\n",
       "      <td>0</td>\n",
       "      <td>1</td>\n",
       "      <td>terrible experience....I am a local first of a...</td>\n",
       "      <td>0</td>\n",
       "      <td>C_xtIn19eKivN335dzjadg</td>\n",
       "    </tr>\n",
       "    <tr>\n",
       "      <th>1</th>\n",
       "      <td>aWMxTWSEqBvH2KhdGPLibQ</td>\n",
       "      <td>0</td>\n",
       "      <td>2015-01-01</td>\n",
       "      <td>0</td>\n",
       "      <td>3</td>\n",
       "      <td>Bad service at this location.\\n\\nGood iced cof...</td>\n",
       "      <td>0</td>\n",
       "      <td>T7J9ae0wTskrI_Bgwp-4cA</td>\n",
       "    </tr>\n",
       "    <tr>\n",
       "      <th>2</th>\n",
       "      <td>Z98h1BhssZeFfZvcVTYOpw</td>\n",
       "      <td>0</td>\n",
       "      <td>2015-01-01</td>\n",
       "      <td>0</td>\n",
       "      <td>2</td>\n",
       "      <td>We have been to Maya's many times since it fir...</td>\n",
       "      <td>1</td>\n",
       "      <td>O7WaUuYwX45Ia6Mvf01UCw</td>\n",
       "    </tr>\n",
       "    <tr>\n",
       "      <th>3</th>\n",
       "      <td>3rwM9fPYPk9qDkEBOhyHbg</td>\n",
       "      <td>1</td>\n",
       "      <td>2015-01-01</td>\n",
       "      <td>0</td>\n",
       "      <td>5</td>\n",
       "      <td>booked the hotel for new years, over the phone...</td>\n",
       "      <td>1</td>\n",
       "      <td>kq-4vbC1cHQbRKyDmwERSA</td>\n",
       "    </tr>\n",
       "    <tr>\n",
       "      <th>4</th>\n",
       "      <td>JpYn_HdxQNZQSlWWv4P6Iw</td>\n",
       "      <td>0</td>\n",
       "      <td>2015-01-01</td>\n",
       "      <td>0</td>\n",
       "      <td>3</td>\n",
       "      <td>Good, not great. Not a ton of tea options but ...</td>\n",
       "      <td>1</td>\n",
       "      <td>XweddetOpWNuJQ5mLb_5JQ</td>\n",
       "    </tr>\n",
       "  </tbody>\n",
       "</table>\n",
       "</div>"
      ],
      "text/plain": [
       "              business_id  cool       date  funny  stars  \\\n",
       "0  vT12uXtdBQ10_lUcl-M40w     0 2015-01-01      0      1   \n",
       "1  aWMxTWSEqBvH2KhdGPLibQ     0 2015-01-01      0      3   \n",
       "2  Z98h1BhssZeFfZvcVTYOpw     0 2015-01-01      0      2   \n",
       "3  3rwM9fPYPk9qDkEBOhyHbg     1 2015-01-01      0      5   \n",
       "4  JpYn_HdxQNZQSlWWv4P6Iw     0 2015-01-01      0      3   \n",
       "\n",
       "                                                text  useful  \\\n",
       "0  terrible experience....I am a local first of a...       0   \n",
       "1  Bad service at this location.\\n\\nGood iced cof...       0   \n",
       "2  We have been to Maya's many times since it fir...       1   \n",
       "3  booked the hotel for new years, over the phone...       1   \n",
       "4  Good, not great. Not a ton of tea options but ...       1   \n",
       "\n",
       "                  user_id  \n",
       "0  C_xtIn19eKivN335dzjadg  \n",
       "1  T7J9ae0wTskrI_Bgwp-4cA  \n",
       "2  O7WaUuYwX45Ia6Mvf01UCw  \n",
       "3  kq-4vbC1cHQbRKyDmwERSA  \n",
       "4  XweddetOpWNuJQ5mLb_5JQ  "
      ]
     },
     "execution_count": 6,
     "metadata": {},
     "output_type": "execute_result"
    }
   ],
   "source": [
    "# Load dat yung fresh 2015 yelp data\n",
    "data_2015 = pd.read_json(\"json_2015.json\")\n",
    "data_2015.head(n=5)"
   ]
  },
  {
   "cell_type": "code",
   "execution_count": 7,
   "metadata": {
    "collapsed": false
   },
   "outputs": [
    {
     "data": {
      "text/html": [
       "<div>\n",
       "<table border=\"1\" class=\"dataframe\">\n",
       "  <thead>\n",
       "    <tr style=\"text-align: right;\">\n",
       "      <th></th>\n",
       "      <th>business_id</th>\n",
       "      <th>cool</th>\n",
       "      <th>date</th>\n",
       "      <th>funny</th>\n",
       "      <th>stars</th>\n",
       "      <th>text</th>\n",
       "      <th>useful</th>\n",
       "      <th>user_id</th>\n",
       "    </tr>\n",
       "  </thead>\n",
       "  <tbody>\n",
       "    <tr>\n",
       "      <th>263036</th>\n",
       "      <td>Cpjt0CxAEmVSgUVsaB30DA</td>\n",
       "      <td>1</td>\n",
       "      <td>2015-06-01</td>\n",
       "      <td>1</td>\n",
       "      <td>5</td>\n",
       "      <td>This was a great experience. They services me ...</td>\n",
       "      <td>1</td>\n",
       "      <td>hyK09yFvmb0nhyWv2tY-Hw</td>\n",
       "    </tr>\n",
       "    <tr>\n",
       "      <th>155976</th>\n",
       "      <td>nvIAR-a_39UF05eYHvoGOQ</td>\n",
       "      <td>0</td>\n",
       "      <td>2015-04-02</td>\n",
       "      <td>0</td>\n",
       "      <td>4</td>\n",
       "      <td>Very cute bookshop in the northern part of the...</td>\n",
       "      <td>1</td>\n",
       "      <td>a0pDNquwLGS-PCeqjL-umg</td>\n",
       "    </tr>\n",
       "    <tr>\n",
       "      <th>4902</th>\n",
       "      <td>y2FMWeHfbxQADvcdV2ja2w</td>\n",
       "      <td>0</td>\n",
       "      <td>2015-01-03</td>\n",
       "      <td>0</td>\n",
       "      <td>4</td>\n",
       "      <td>I love the ambiance in this place. The hardwoo...</td>\n",
       "      <td>0</td>\n",
       "      <td>WE61REQMkSo-cwFGawkBag</td>\n",
       "    </tr>\n",
       "    <tr>\n",
       "      <th>194508</th>\n",
       "      <td>i8EcaWDkkfo3T3d5APfzsQ</td>\n",
       "      <td>0</td>\n",
       "      <td>2015-04-24</td>\n",
       "      <td>0</td>\n",
       "      <td>4</td>\n",
       "      <td>YUM! I got the eggs florentine, boyfriend got ...</td>\n",
       "      <td>0</td>\n",
       "      <td>1U1fnEd_XrxVLPXyXWRgyQ</td>\n",
       "    </tr>\n",
       "    <tr>\n",
       "      <th>260039</th>\n",
       "      <td>1n-GvDcbst4BAInt-f0JBQ</td>\n",
       "      <td>0</td>\n",
       "      <td>2015-05-31</td>\n",
       "      <td>0</td>\n",
       "      <td>5</td>\n",
       "      <td>If I could give Belleza Wedding Chapel a milli...</td>\n",
       "      <td>0</td>\n",
       "      <td>i3DsMWuNYlZUZr7I21VXMQ</td>\n",
       "    </tr>\n",
       "  </tbody>\n",
       "</table>\n",
       "</div>"
      ],
      "text/plain": [
       "                   business_id  cool       date  funny  stars  \\\n",
       "263036  Cpjt0CxAEmVSgUVsaB30DA     1 2015-06-01      1      5   \n",
       "155976  nvIAR-a_39UF05eYHvoGOQ     0 2015-04-02      0      4   \n",
       "4902    y2FMWeHfbxQADvcdV2ja2w     0 2015-01-03      0      4   \n",
       "194508  i8EcaWDkkfo3T3d5APfzsQ     0 2015-04-24      0      4   \n",
       "260039  1n-GvDcbst4BAInt-f0JBQ     0 2015-05-31      0      5   \n",
       "\n",
       "                                                     text  useful  \\\n",
       "263036  This was a great experience. They services me ...       1   \n",
       "155976  Very cute bookshop in the northern part of the...       1   \n",
       "4902    I love the ambiance in this place. The hardwoo...       0   \n",
       "194508  YUM! I got the eggs florentine, boyfriend got ...       0   \n",
       "260039  If I could give Belleza Wedding Chapel a milli...       0   \n",
       "\n",
       "                       user_id  \n",
       "263036  hyK09yFvmb0nhyWv2tY-Hw  \n",
       "155976  a0pDNquwLGS-PCeqjL-umg  \n",
       "4902    WE61REQMkSo-cwFGawkBag  \n",
       "194508  1U1fnEd_XrxVLPXyXWRgyQ  \n",
       "260039  i3DsMWuNYlZUZr7I21VXMQ  "
      ]
     },
     "execution_count": 7,
     "metadata": {},
     "output_type": "execute_result"
    }
   ],
   "source": [
    "# Create a dataset using only 1400 of those reviews\n",
    "rand_1400 = data_2015.sample(frac=.0021)\n",
    "rand_1400.head()"
   ]
  },
  {
   "cell_type": "code",
   "execution_count": 8,
   "metadata": {
    "collapsed": false
   },
   "outputs": [
    {
     "data": {
      "text/plain": [
       "'The original set has 666815 entries, while our testing set only has 1400.'"
      ]
     },
     "execution_count": 8,
     "metadata": {},
     "output_type": "execute_result"
    }
   ],
   "source": [
    "'The original set has {0} entries, while our testing set only has {1}.'.format(data_2015.shape[0], rand_1400.shape[0])"
   ]
  },
  {
   "cell_type": "code",
   "execution_count": 9,
   "metadata": {
    "collapsed": false
   },
   "outputs": [
    {
     "name": "stdout",
     "output_type": "stream",
     "text": [
      "Range of Review Lengths: 2 words - 952 words\n",
      "Mean of Review Lengths: 104.177857143\n"
     ]
    },
    {
     "data": {
      "image/png": "[encoded data removed]",
      "text/plain": [
       "<matplotlib.figure.Figure at 0x104ae5d90>"
      ]
     },
     "metadata": {},
     "output_type": "display_data"
    }
   ],
   "source": [
    "# Splits each review by spaces.\n",
    "lengths = rand_1400['text'].apply(lambda x: len(x.split(' ')))\n",
    "\n",
    "print 'Range of Review Lengths: {0} words - {1} words'.format(np.min(lengths), np.max(lengths))\n",
    "print 'Mean of Review Lengths: {}'.format(np.mean(lengths))\n",
    "\n",
    "fig, ax = plt.subplots(1, 1, figsize=(15, 6))\n",
    "\n",
    "# Histogram of the word counts in each post\n",
    "ax.hist(lengths, color='blue', bins=60, alpha=0.5)\n",
    "\n",
    "ax.set_xlabel('Number of Words in Post')\n",
    "ax.set_ylabel('Number of Posts')\n",
    "ax.set_title('Histogram of Length of Posts')\n",
    "\n",
    "plt.show()"
   ]
  },
  {
   "cell_type": "code",
   "execution_count": 10,
   "metadata": {
    "collapsed": false
   },
   "outputs": [],
   "source": [
    "# Create a text vectorizer (turns text into array of numbers)\n",
    "vectorizer = CountVectorizer(stop_words='english', min_df=1, binary=True)\n",
    "\n",
    "# Get all the text from data\n",
    "corpus = rand_1400['text'].values\n",
    "\n",
    "# Turn each text into an array of word counts\n",
    "x = vectorizer.fit_transform(corpus)\n",
    "x = x.toarray()\n",
    "\n",
    "# Get the names of all the words we're counting\n",
    "feature_names = vectorizer.get_feature_names()\n",
    "\n",
    "#Number of top words\n",
    "n = 20\n",
    "\n",
    "#Count the number of time each word occurs in the entire dataset\n",
    "word_freq = x.sum(axis=0)\n",
    "\n",
    "#Sort the words by their total frequency in the dataset\n",
    "words = zip(word_freq, feature_names)\n",
    "top_words = (sorted(words, key=lambda t: t[0], reverse=True))[:n]"
   ]
  },
  {
   "cell_type": "code",
   "execution_count": 11,
   "metadata": {
    "collapsed": false
   },
   "outputs": [
    {
     "data": {
      "image/png": "[encoded data removed]",
      "text/plain": [
       "<matplotlib.figure.Figure at 0x1caa53450>"
      ]
     },
     "metadata": {},
     "output_type": "display_data"
    }
   ],
   "source": [
    "fig, ax = plt.subplots(1, 1, figsize=(15, 6))\n",
    "\n",
    "# Number of bars to use\n",
    "indices = np.arange(n)\n",
    "# Where to put the label under each bar\n",
    "width = 0.5\n",
    "# Bar plot of the frequencies of the top words\n",
    "ax.bar(indices, [word[0] for word in top_words], color='blue', alpha=0.5)\n",
    "\n",
    "ax.set_ylabel('Frequency')\n",
    "ax.set_title('Top ' + str(n) + ' Words')\n",
    "\n",
    "# Label the bars with the top words\n",
    "ax.set_xticks(indices + width)\n",
    "ax.set_xticklabels([word[1] for word in top_words])\n",
    "\n",
    "# Turn the labels sideways so they don't overlap\n",
    "labels = ax.get_xticklabels()\n",
    "plt.setp(labels, rotation=30, fontsize=10)\n",
    "\n",
    "plt.show()"
   ]
  },
  {
   "cell_type": "code",
   "execution_count": 12,
   "metadata": {
    "collapsed": false
   },
   "outputs": [],
   "source": [
    "# Encode the class labels, things sometimes get funky if you don't do this.\n",
    "labels = rand_1400['stars'].values\n",
    "enc_label = LabelEncoder()\n",
    "y = enc_label.fit_transform(labels)\n",
    "\n",
    "# Adjust from 0 to 4, to 1 to 5.\n",
    "y = y + 1"
   ]
  },
  {
   "cell_type": "code",
   "execution_count": 13,
   "metadata": {
    "collapsed": false
   },
   "outputs": [
    {
     "name": "stdout",
     "output_type": "stream",
     "text": [
      "Number of 1 star posts: 222\n",
      "Number of 2 star posts: 94\n",
      "Number of 3 star posts: 135\n",
      "Number of 4 star posts: 297\n",
      "Number of 5 star posts: 652\n"
     ]
    }
   ],
   "source": [
    "# Print the number of comments in each class\n",
    "print 'Number of 1 star posts:', len(y[y == 1])\n",
    "print 'Number of 2 star posts:', len(y[y == 2])\n",
    "print 'Number of 3 star posts:', len(y[y == 3])\n",
    "print 'Number of 4 star posts:', len(y[y == 4])\n",
    "print 'Number of 5 star posts:', len(y[y == 5])"
   ]
  },
  {
   "cell_type": "code",
   "execution_count": 14,
   "metadata": {
    "collapsed": false
   },
   "outputs": [
    {
     "data": {
      "image/png": "[encoded data removed]",
      "text/plain": [
       "<matplotlib.figure.Figure at 0x1f19df690>"
      ]
     },
     "metadata": {},
     "output_type": "display_data"
    }
   ],
   "source": [
    "colors = [\"red\", \"blue\", \"green\", \"orange\", \"brown\"]\n",
    "fig, ax = plt.subplots(5, 1, figsize=(15, 30))\n",
    "\n",
    "for i in range(5):\n",
    "    #Number of bars to use\n",
    "    indices = np.arange(n)\n",
    "    #Where to put the label under each bar\n",
    "    width = 0.5\n",
    "\n",
    "    #Count the number of time each word occurs in the 1 stars posts\n",
    "    word_freq = x[y == i+1].sum(axis=0)\n",
    "\n",
    "    #Sort the words by their total frequency in the dataset\n",
    "    words = zip(word_freq, feature_names)\n",
    "    top_words = (sorted(words, key=lambda t: t[0], reverse=True))[:n]\n",
    "\n",
    "    #Bar plot of the frequencies of the top words\n",
    "    ax[i].bar(indices, [word[0] for word in top_words], color=colors[i], alpha=0.5)\n",
    "\n",
    "    ax[i].set_ylabel('Frequency')\n",
    "    ax[i].set_title('Top ' + str(n) + ' Words in ' + str(i+1) + ' Star Reviews')\n",
    "\n",
    "    #Label the bars with the top words\n",
    "    ax[i].set_xticks(indices + width)\n",
    "    ax[i].set_xticklabels([word[1] for word in top_words])\n",
    "\n",
    "    #Turn the labels sideways so they don't overlap\n",
    "    labels = ax[i].get_xticklabels()\n",
    "    plt.setp(labels, rotation=30, fontsize=10)\n",
    "\n",
    "plt.show()"
   ]
  },
  {
   "cell_type": "code",
   "execution_count": 15,
   "metadata": {
    "collapsed": false
   },
   "outputs": [
    {
     "name": "stdout",
     "output_type": "stream",
     "text": [
      "Reviews in Training Set: 943\n",
      "Accuracy on overall test set: 0.490153172867\n",
      "Accuracy on 1 star in test set: 0.553846153846\n",
      "Accuracy on 2 star in test set: 0.0\n",
      "Accuracy on 3 star in test set: 0.707317073171\n",
      "Accuracy on 4 star in test set: 0.0291262135922\n",
      "Accuracy on 5 star in test set: 0.728971962617\n"
     ]
    }
   ],
   "source": [
    "# Train/test split\n",
    "n_samples = len(x)\n",
    "train_indices = np.random.uniform(size=n_samples) > 1. / 3.  #Select two thirds for train\n",
    "\n",
    "x_train = x[train_indices]\n",
    "y_train = y[train_indices]\n",
    "print \"Reviews in Training Set: {0}\".format(x_train.shape[0])\n",
    "x_test = x[~train_indices]\n",
    "y_test = y[~train_indices]\n",
    "\n",
    "#Generate array of L2 regularization parameters\n",
    "regularization = 10.**np.arange(-10, 5)\n",
    "\n",
    "#Fit logistic model with cross validation to select the optimal regularization parameter\n",
    "logistic = LogRegCV(cv=5, penalty='l2', Cs=regularization, solver='liblinear', n_jobs=4)\n",
    "logistic.fit(x_train, y_train)\n",
    "\n",
    "#Print results\n",
    "print 'Accuracy on overall test set:', logistic.score(x_test, y_test)\n",
    "print 'Accuracy on 1 star in test set:', logistic.score(x_test[y_test == 1], y_test[y_test == 1])\n",
    "print 'Accuracy on 2 star in test set:', logistic.score(x_test[y_test == 2], y_test[y_test == 2])\n",
    "print 'Accuracy on 3 star in test set:', logistic.score(x_test[y_test == 3], y_test[y_test == 3])\n",
    "print 'Accuracy on 4 star in test set:', logistic.score(x_test[y_test == 4], y_test[y_test == 4])\n",
    "print 'Accuracy on 5 star in test set:', logistic.score(x_test[y_test == 5], y_test[y_test == 5])"
   ]
  },
  {
   "cell_type": "code",
   "execution_count": 16,
   "metadata": {
    "collapsed": false
   },
   "outputs": [],
   "source": [
    "# This function computes the accuracy of logistic regression given cut-offs, min_df, max_df\n",
    "def vectorize_classify(min_df, max_df, trials, x, y):\n",
    "    #Create a text vectorizer, removing words with frequency less than min_df or\n",
    "    #greater than max_df\n",
    "    vectorizer = CountVectorizer(stop_words='english', min_df=min_df, max_df=max_df)\n",
    "    #Transform our text into arrays of numbers\n",
    "    corpus = rand_1400['text'].values\n",
    "    x = vectorizer.fit_transform(corpus)\n",
    "    x = x.toarray()\n",
    "    \n",
    "    #Record overall accuracy rate, accuracy on class 1 and class 0\n",
    "    overall_acc = []\n",
    "    class_5_acc = []\n",
    "    class_4_acc = []\n",
    "    class_3_acc = []\n",
    "    class_2_acc = []\n",
    "    class_1_acc = []\n",
    "    \n",
    "    \n",
    "    n_samples = len(x)\n",
    "    \n",
    "    #Perform logistic regression on a handful of train/test splits\n",
    "    for i in range(trials):\n",
    "        #Print progress\n",
    "        sys.stdout.write(\"\\r{0}% completed\".format((float(i + 1)/trials)*100))\n",
    "        sys.stdout.flush()\n",
    "        \n",
    "        # Train/test split\n",
    "        train_indices = np.random.uniform(size=n_samples) > 1. / 3.  #Select two thirds for train\n",
    "\n",
    "        x_train = x[train_indices]\n",
    "        y_train = y[train_indices]\n",
    "\n",
    "        x_test = x[~train_indices]\n",
    "        y_test = y[~train_indices]\n",
    "\n",
    "        #Generate array of L2 regularization parameters\n",
    "        regularization = 10. ** np.arange(-10, 5)\n",
    "\n",
    "        #Fit logistic model\n",
    "        logistic = LogRegCV(cv=5, \n",
    "                            penalty='l2', \n",
    "                            Cs=regularization, \n",
    "                            solver='liblinear', \n",
    "                            n_jobs=4)\n",
    "        logistic.fit(x_train, y_train)\n",
    "        \n",
    "        overall_acc.append(logistic.score(x_test, y_test))\n",
    "        class_1_acc.append(logistic.score(x_test[y_test == 1], y_test[y_test == 1]))\n",
    "        class_2_acc.append(logistic.score(x_test[y_test == 2], y_test[y_test == 2]))\n",
    "        class_3_acc.append(logistic.score(x_test[y_test == 3], y_test[y_test == 3]))\n",
    "        class_4_acc.append(logistic.score(x_test[y_test == 4], y_test[y_test == 4]))\n",
    "        class_5_acc.append(logistic.score(x_test[y_test == 5], y_test[y_test == 5]))\n",
    "\n",
    "    return (np.mean(overall_acc), \n",
    "            np.mean(class_1_acc),\n",
    "            np.mean(class_2_acc),\n",
    "            np.mean(class_3_acc),\n",
    "            np.mean(class_4_acc),\n",
    "            np.mean(class_5_acc))"
   ]
  },
  {
   "cell_type": "code",
   "execution_count": 17,
   "metadata": {
    "collapsed": false
   },
   "outputs": [
    {
     "name": "stdout",
     "output_type": "stream",
     "text": [
      "100.0% completed\n",
      "Min frequency, max frequency: 15 , 180\n",
      "Accuracy on overall test set: 0.496212805266\n",
      "Accuracy on class 1 in test set: 0.351138565467\n",
      "Accuracy on class 2 in test set: 0.0978105228105\n",
      "Accuracy on class 3 in test set: 0.121463328942\n",
      "Accuracy on class 4 in test set: 0.445508342554\n",
      "Accuracy on class 5 in test set: 0.708930202422\n"
     ]
    }
   ],
   "source": [
    "# Solution to not identifying class 2 and 3 possibly\n",
    "min_df = 15\n",
    "max_df = 180\n",
    "trials = 10\n",
    "overall, class_1, class_2, class_3, class_4, class_5 = vectorize_classify(min_df, max_df, trials, x, y)\n",
    "print '\\nMin frequency, max frequency:', min_df, ',', max_df\n",
    "print 'Accuracy on overall test set:', overall\n",
    "print 'Accuracy on class 1 in test set:', class_1\n",
    "print 'Accuracy on class 2 in test set:', class_2\n",
    "print 'Accuracy on class 3 in test set:', class_3\n",
    "print 'Accuracy on class 4 in test set:', class_4\n",
    "print 'Accuracy on class 5 in test set:', class_5"
   ]
  },
  {
   "cell_type": "code",
   "execution_count": 85,
   "metadata": {
    "collapsed": false
   },
   "outputs": [
    {
     "name": "stdout",
     "output_type": "stream",
     "text": [
      "Accuracy for reviews: 0.735\n",
      "Accuracy for 1 star: 0.851351351351\n",
      "Accuracy for 2 Star: 0.404255319149\n",
      "Accuracy for 3 Star: 0.874074074074\n",
      "Accuracy for 4 Star: 0.367003367003\n",
      "Accuracy for 5 Star: 0.881901840491\n"
     ]
    }
   ],
   "source": [
    "pca = PCA(n_components=800)\n",
    "pca.fit(x_train)\n",
    "x_reduced = pca.transform(x)\n",
    "x_train_red = pca.transform(x_train)\n",
    "\n",
    "x_1 = x_reduced[y==1, :]\n",
    "x_2 = x_reduced[y==2, :]\n",
    "x_3 = x_reduced[y==3, :]\n",
    "x_4 = x_reduced[y==4, :]\n",
    "x_5 = x_reduced[y==5, :]\n",
    "\n",
    "logistic.fit(x_train_red, y_train)\n",
    "\n",
    "y_pred = logistic.predict(x_reduced)\n",
    "pred_1 = logistic.predict(x_1)\n",
    "pred_2 = logistic.predict(x_2)\n",
    "pred_3 = logistic.predict(x_3)\n",
    "pred_4 = logistic.predict(x_4)\n",
    "pred_5 = logistic.predict(x_5)\n",
    "\n",
    "print 'Accuracy for reviews:', np.mean(y == y_pred)\n",
    "print 'Accuracy for 1 star:', np.mean(y[y==1] == pred_1)\n",
    "print 'Accuracy for 2 Star:', np.mean(y[y==2] == pred_2)\n",
    "print 'Accuracy for 3 Star:', np.mean(y[y==3] == pred_3)\n",
    "print 'Accuracy for 4 Star:', np.mean(y[y==4] == pred_4)\n",
    "print 'Accuracy for 5 Star:', np.mean(y[y==5] == pred_5)"
   ]
  },
  {
   "cell_type": "code",
   "execution_count": 86,
   "metadata": {
    "collapsed": false
   },
   "outputs": [],
   "source": [
    "binary_y = [] #class observations according to whether they have at least one \"helpful\" vote\n",
    "\n",
    "for score in rand_1400.useful.values:\n",
    "    i = 1 if score > 0 else 0\n",
    "    binary_y.append(i)\n",
    "binary_y = np.array(binary_y)\n",
    "# Train/test split\n",
    "train_indices = np.random.uniform(size=len(x)) > 1. / 3.  #Select two thirds for train\n",
    "\n",
    "x_bi_train = x[train_indices]\n",
    "y_bi_train = binary_y[train_indices]\n",
    "\n",
    "x_bi_test = x[~train_indices]\n",
    "y_bi_test = binary_y[~train_indices]\n",
    "\n",
    "pca = PCA(n_components=900)\n",
    "pca.fit(x_bi_train)\n",
    "x_bi_reduced = pca.transform(x)\n",
    "x_bi_train_red = pca.transform(x_bi_train)\n"
   ]
  },
  {
   "cell_type": "code",
   "execution_count": 87,
   "metadata": {
    "collapsed": false
   },
   "outputs": [
    {
     "name": "stdout",
     "output_type": "stream",
     "text": [
      "(467, 9678)\n",
      "(467,)\n",
      "(467, 900)\n",
      "0.665952890792\n"
     ]
    }
   ],
   "source": [
    "x_bi_test_red = pca.transform(x_bi_test)\n",
    "print x_bi_test.shape\n",
    "print y_bi_test.shape\n",
    "print x_bi_test_red.shape\n",
    "logistic.fit(x_bi_train_red, y_bi_train)\n",
    "y_bi_test_pred = logistic.predict(x_bi_test_red)\n",
    "print np.mean(y_bi_test_pred==y_bi_test)"
   ]
  },
  {
   "cell_type": "code",
   "execution_count": 88,
   "metadata": {
    "collapsed": false
   },
   "outputs": [
    {
     "name": "stdout",
     "output_type": "stream",
     "text": [
      "C= 0.0001 : 0.657153687197\n",
      "C= 0.001 : 0.657156744067\n",
      "C= 0.01 : 0.647163836005\n",
      "C= 0.1 : 0.640007703312\n",
      "C= 1 : 0.612147390044\n",
      "C= 10 : 0.586399373953\n",
      "C= 100 : 0.57282381424\n"
     ]
    },
    {
     "data": {
      "image/png": "[encoded data removed]",
      "text/plain": [
       "<matplotlib.figure.Figure at 0x215727fd0>"
      ]
     },
     "metadata": {},
     "output_type": "display_data"
    }
   ],
   "source": [
    "cvals = [0.0001, 0.001, 0.01, 0.1, 1, 10, 100]\n",
    "scores = []\n",
    "for c in cvals: #try cross validating the data with different regularization parameters\n",
    "    log_model = LogReg(C=c, penalty='l2') #initiate unregularized logistic regression model\n",
    "    score = cross_val_score(log_model, x_bi_reduced, binary_y, n_jobs=-1).mean() #cross validate\n",
    "    scores.append(score)\n",
    "    print \"C=\",c ,\":\", score\n",
    "    \n",
    "plt.plot(cvals, scores)\n",
    "plt.xscale('log')\n",
    "plt.title(\"Accuracy by Regularization Parameter value\")\n",
    "plt.xlabel(\"Parameter value\")\n",
    "plt.ylabel(\"Accuracy\")\n",
    "plt.grid()\n",
    "plt.show()"
   ]
  },
  {
   "cell_type": "code",
   "execution_count": 89,
   "metadata": {
    "collapsed": false
   },
   "outputs": [
    {
     "name": "stdout",
     "output_type": "stream",
     "text": [
      "0.638115631692\n"
     ]
    }
   ],
   "source": [
    "model = svm.SVC(kernel='poly', gamma=2, C=100)\n",
    "model.fit(x_bi_train_red, list(y_bi_train))\n",
    "print model.score(x_bi_test_red, list(y_bi_test))"
   ]
  },
  {
   "cell_type": "code",
   "execution_count": 90,
   "metadata": {
    "collapsed": false
   },
   "outputs": [
    {
     "name": "stdout",
     "output_type": "stream",
     "text": [
      "5-fold cross validation:\n",
      "Kernel: rbf Gamma: 2 C: 100 Average score: 0.636656891496\n",
      "0.646680942184\n"
     ]
    }
   ],
   "source": [
    "print '5-fold cross validation:'\n",
    "best_score = 0\n",
    "k_folds = KFold(x_bi_train_red.shape[0], n_folds=5, shuffle=True)\n",
    "scores = []\n",
    "trainers = [None, None]\n",
    "for train_indices, validation_indices in k_folds:\n",
    "    # Generate training data\n",
    "    x_train_cv = x_bi_train_red[train_indices]\n",
    "    y_train_cv = y_bi_train[train_indices]\n",
    "    # Generate validation data\n",
    "    x_validate = x_bi_train_red[validation_indices]\n",
    "    y_validate = y_bi_train[validation_indices]\n",
    "\n",
    "    # Fit random forest on training data\n",
    "    model = svm.SVC(kernel='poly', gamma=2, C=100)\n",
    "    model.fit(x_train_cv, list(y_train_cv))\n",
    "    if model.score(x_validate, list(y_validate)) > best_score:\n",
    "        trainers[0] = x_train_cv\n",
    "        trainers[1] = y_train_cv\n",
    "    scores += [model.score(x_validate, list(y_validate))]\n",
    "\n",
    "average_score = np.mean(scores)\n",
    "print \"Kernel:\", 'rbf', \"Gamma:\", 2, \"C:\", 100, \"Average score:\", average_score\n",
    "\n",
    "model = svm.SVC(kernel='poly', gamma=2, C=100)\n",
    "model.fit(trainers[0], list(trainers[1]))\n",
    "print model.score(x_bi_test_red, list(y_bi_test))"
   ]
  },
  {
   "cell_type": "code",
   "execution_count": 91,
   "metadata": {
    "collapsed": false
   },
   "outputs": [
    {
     "name": "stdout",
     "output_type": "stream",
     "text": [
      "5-fold cross validation:\n",
      "Trees: 10 Depth: 2 Score: 0.630211028693\n",
      "Trees: 10 Depth: 3 Score: 0.647288827554\n",
      "Trees: 10 Depth: 4 Score: 0.647375079064\n",
      "Trees: 10 Depth: 5 Score: 0.62156287735\n",
      "Trees: 10 Depth: 6 Score: 0.631309297913\n",
      "Trees: 10 Depth: 7 Score: 0.613052728423\n",
      "Trees: 10 Depth: 8 Score: 0.607722385142\n",
      "Trees: 10 Depth: 9 Score: 0.618417572308\n",
      "Trees: 30 Depth: 2 Score: 0.630308780404\n",
      "Trees: 30 Depth: 3 Score: 0.639882697947\n",
      "Trees: 30 Depth: 4 Score: 0.633419584843\n",
      "Trees: 30 Depth: 5 Score: 0.629222011385\n",
      "Trees: 30 Depth: 6 Score: 0.635616123282\n",
      "Trees: 30 Depth: 7 Score: 0.639842447243\n",
      "Trees: 30 Depth: 8 Score: 0.633477085849\n",
      "Trees: 30 Depth: 9 Score: 0.644178023115\n",
      "Trees: 50 Depth: 2 Score: 0.631234546605\n",
      "Trees: 50 Depth: 3 Score: 0.646259559542\n",
      "Trees: 50 Depth: 4 Score: 0.647403829567\n",
      "Trees: 50 Depth: 5 Score: 0.655919728595\n",
      "Trees: 50 Depth: 6 Score: 0.650623885918\n",
      "Trees: 50 Depth: 7 Score: 0.644143522512\n",
      "Trees: 50 Depth: 8 Score: 0.64523029153\n",
      "Trees: 50 Depth: 9 Score: 0.650572135012\n",
      "Trees: 70 Depth: 2 Score: 0.632453567937\n",
      "Trees: 70 Depth: 3 Score: 0.640929216261\n",
      "Trees: 70 Depth: 4 Score: 0.646276809844\n",
      "Trees: 70 Depth: 5 Score: 0.652682421942\n",
      "Trees: 70 Depth: 6 Score: 0.632401817032\n",
      "Trees: 70 Depth: 7 Score: 0.650629636019\n",
      "Trees: 70 Depth: 8 Score: 0.641032718073\n",
      "Trees: 70 Depth: 9 Score: 0.643097004198\n",
      "Trees: 90 Depth: 2 Score: 0.628031740555\n",
      "Trees: 90 Depth: 3 Score: 0.640934966362\n",
      "Trees: 90 Depth: 4 Score: 0.650560634811\n",
      "Trees: 90 Depth: 5 Score: 0.638790178828\n",
      "Trees: 90 Depth: 6 Score: 0.649485365994\n",
      "Trees: 90 Depth: 7 Score: 0.659157035248\n",
      "Trees: 90 Depth: 8 Score: 0.658081766431\n",
      "Trees: 90 Depth: 9 Score: 0.652734172848\n",
      "Chosen number of trees, depth: 90 , 7\n",
      "Test accuracy: 0.627408993576\n"
     ]
    }
   ],
   "source": [
    "# Parameters for tuning\n",
    "n_trees = np.arange(10, 100, 20)  # Trees and depth are explored on an exponentially growing space,\n",
    "depths = np.arange(2, 10)   # since it is assumed that trees and depth will add accuracy in a decaying fashion.\n",
    "\n",
    "# To keep track of the best model\n",
    "best_score = 0\n",
    "\n",
    "# Run grid search for model with 5-fold cross validation\n",
    "print '5-fold cross validation:'\n",
    "\n",
    "for trees in n_trees:\n",
    "    for depth in depths:\n",
    "        \n",
    "        # Cross validation for every experiment\n",
    "        k_folds = KFold(x_bi_train_red.shape[0], n_folds=5, shuffle=True)\n",
    "        scores = []\n",
    "        for train_indices, validation_indices in k_folds:\n",
    "            # Generate training data\n",
    "            x_train_cv = x_bi_train_red[train_indices]\n",
    "            y_train_cv = y_bi_train[train_indices]\n",
    "            # Generate validation data\n",
    "            x_validate = x_bi_train_red[validation_indices]\n",
    "            y_validate = y_bi_train[validation_indices]      \n",
    "            \n",
    "            # Fit random forest on training data\n",
    "            model = RandomForestClassifier(n_estimators=trees, max_depth=depth)\n",
    "            model.fit(x_train_cv, y_train_cv)\n",
    "            # Score on validation data\n",
    "            scores += [model.score(x_validate, y_validate)]\n",
    "        \n",
    "        # Record and report accuracy\n",
    "        average_score = np.mean(scores)\n",
    "        print \"Trees:\", trees, \"Depth:\", depth, \"Score:\", average_score\n",
    "        \n",
    "        # Update our record of the best parameters see so far\n",
    "        if average_score > best_score:\n",
    "            best_score = average_score\n",
    "            best_trees = trees\n",
    "            best_depth = depth\n",
    "\n",
    "# Fit model on entire train set using chosen number of trees and depth\n",
    "model = RandomForestClassifier(n_estimators=best_trees, max_depth=best_depth)\n",
    "model.fit(x_bi_train_red, y_bi_train)\n",
    "\n",
    "print 'Chosen number of trees, depth:', best_trees, ',', best_depth\n",
    "print 'Test accuracy:', model.score(x_bi_test_red, y_bi_test)"
   ]
  },
  {
   "cell_type": "code",
   "execution_count": 92,
   "metadata": {
    "collapsed": false
   },
   "outputs": [
    {
     "data": {
      "text/plain": [
       "0.6264285714285714"
      ]
     },
     "execution_count": 92,
     "metadata": {},
     "output_type": "execute_result"
    }
   ],
   "source": [
    "float(binary_y[binary_y == 0].shape[0]) / binary_y.shape[0]"
   ]
  },
  {
   "cell_type": "code",
   "execution_count": null,
   "metadata": {
    "collapsed": true
   },
   "outputs": [],
   "source": []
  },
  {
   "cell_type": "markdown",
   "metadata": {},
   "source": [
    "Naive Bayes Classifier... Needs More Work"
   ]
  },
  {
   "cell_type": "code",
   "execution_count": 93,
   "metadata": {
    "collapsed": false
   },
   "outputs": [
    {
     "name": "stdout",
     "output_type": "stream",
     "text": [
      "0.508571428571\n"
     ]
    }
   ],
   "source": [
    "text_clf = Pipeline([('vect', CountVectorizer(stop_words='english', min_df=1, binary=True)), ('tfidf', TfidfTransformer()), ('clf', MultinomialNB()),])\n",
    "text_clf = text_clf.fit(rand_1400['text'].values, rand_1400['stars'].values)\n",
    "predicted = text_clf.predict(rand_1400['text'].values)\n",
    "print np.mean(predicted==rand_1400['stars'].values)"
   ]
  },
  {
   "cell_type": "code",
   "execution_count": 94,
   "metadata": {
    "collapsed": false
   },
   "outputs": [
    {
     "name": "stdout",
     "output_type": "stream",
     "text": [
      "0.508571428571\n"
     ]
    }
   ],
   "source": [
    "parameters = {'vect__ngram_range': [(1, 1), (1, 2)], 'tfidf__use_idf': (True, False), 'clf__alpha': (1e-2, 1e-3),}\n",
    "gs_clf = GridSearchCV(text_clf, parameters, n_jobs=-1)\n",
    "gs_clf = gs_clf.fit(rand_1400['text'].values, rand_1400['stars'].values)\n",
    "cv_predicted = gs_clf.predict(rand_1400['text'].values)\n",
    "print np.mean(predicted==rand_1400['stars'].values)"
   ]
  },
  {
   "cell_type": "code",
   "execution_count": null,
   "metadata": {
    "collapsed": true
   },
   "outputs": [],
   "source": []
  }
 ],
 "metadata": {
  "anaconda-cloud": {},
  "kernelspec": {
   "display_name": "Python [Root]",
   "language": "python",
   "name": "Python [Root]"
  },
  "language_info": {
   "codemirror_mode": {
    "name": "ipython",
    "version": 2
   },
   "file_extension": ".py",
   "mimetype": "text/x-python",
   "name": "python",
   "nbconvert_exporter": "python",
   "pygments_lexer": "ipython2",
   "version": "2.7.12"
  }
 },
 "nbformat": 4,
 "nbformat_minor": 0
}
