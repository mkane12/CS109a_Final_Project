{
 "cells": [
  {
   "cell_type": "code",
   "execution_count": 154,
   "metadata": {
    "collapsed": false
   },
   "outputs": [],
   "source": [
    "import numpy as np\n",
    "import matplotlib\n",
    "import matplotlib.pyplot as plt\n",
    "from mpl_toolkits.mplot3d import Axes3D\n",
    "import matplotlib.cm as cmx\n",
    "import matplotlib.colors as colors\n",
    "import pandas as pd\n",
    "from sklearn.linear_model import LogisticRegression as LogReg\n",
    "from sklearn.feature_extraction.text import CountVectorizer, TfidfVectorizer\n",
    "from sklearn.feature_extraction.text import TfidfTransformer as Tfidf\n",
    "from sklearn.neighbors import KNeighborsClassifier as KNN\n",
    "from sklearn.decomposition import PCA\n",
    "from sklearn.cross_validation import KFold, cross_val_score\n",
    "from sklearn.metrics import confusion_matrix\n",
    "from sklearn import preprocessing\n",
    "%matplotlib inline"
   ]
  },
  {
   "cell_type": "code",
   "execution_count": 3,
   "metadata": {
    "collapsed": false
   },
   "outputs": [],
   "source": [
    "data = pd.read_json('json_2015.json')"
   ]
  },
  {
   "cell_type": "code",
   "execution_count": 4,
   "metadata": {
    "collapsed": false
   },
   "outputs": [
    {
     "data": {
      "text/html": [
       "<div>\n",
       "<table border=\"1\" class=\"dataframe\">\n",
       "  <thead>\n",
       "    <tr style=\"text-align: right;\">\n",
       "      <th></th>\n",
       "      <th>business_id</th>\n",
       "      <th>cool</th>\n",
       "      <th>date</th>\n",
       "      <th>funny</th>\n",
       "      <th>stars</th>\n",
       "      <th>text</th>\n",
       "      <th>useful</th>\n",
       "      <th>user_id</th>\n",
       "    </tr>\n",
       "  </thead>\n",
       "  <tbody>\n",
       "    <tr>\n",
       "      <th>0</th>\n",
       "      <td>vT12uXtdBQ10_lUcl-M40w</td>\n",
       "      <td>0</td>\n",
       "      <td>2015-01-01</td>\n",
       "      <td>0</td>\n",
       "      <td>1</td>\n",
       "      <td>terrible experience....I am a local first of a...</td>\n",
       "      <td>0</td>\n",
       "      <td>C_xtIn19eKivN335dzjadg</td>\n",
       "    </tr>\n",
       "    <tr>\n",
       "      <th>1</th>\n",
       "      <td>aWMxTWSEqBvH2KhdGPLibQ</td>\n",
       "      <td>0</td>\n",
       "      <td>2015-01-01</td>\n",
       "      <td>0</td>\n",
       "      <td>3</td>\n",
       "      <td>Bad service at this location.\\n\\nGood iced cof...</td>\n",
       "      <td>0</td>\n",
       "      <td>T7J9ae0wTskrI_Bgwp-4cA</td>\n",
       "    </tr>\n",
       "    <tr>\n",
       "      <th>2</th>\n",
       "      <td>Z98h1BhssZeFfZvcVTYOpw</td>\n",
       "      <td>0</td>\n",
       "      <td>2015-01-01</td>\n",
       "      <td>0</td>\n",
       "      <td>2</td>\n",
       "      <td>We have been to Maya's many times since it fir...</td>\n",
       "      <td>1</td>\n",
       "      <td>O7WaUuYwX45Ia6Mvf01UCw</td>\n",
       "    </tr>\n",
       "    <tr>\n",
       "      <th>3</th>\n",
       "      <td>3rwM9fPYPk9qDkEBOhyHbg</td>\n",
       "      <td>1</td>\n",
       "      <td>2015-01-01</td>\n",
       "      <td>0</td>\n",
       "      <td>5</td>\n",
       "      <td>booked the hotel for new years, over the phone...</td>\n",
       "      <td>1</td>\n",
       "      <td>kq-4vbC1cHQbRKyDmwERSA</td>\n",
       "    </tr>\n",
       "    <tr>\n",
       "      <th>4</th>\n",
       "      <td>JpYn_HdxQNZQSlWWv4P6Iw</td>\n",
       "      <td>0</td>\n",
       "      <td>2015-01-01</td>\n",
       "      <td>0</td>\n",
       "      <td>3</td>\n",
       "      <td>Good, not great. Not a ton of tea options but ...</td>\n",
       "      <td>1</td>\n",
       "      <td>XweddetOpWNuJQ5mLb_5JQ</td>\n",
       "    </tr>\n",
       "  </tbody>\n",
       "</table>\n",
       "</div>"
      ],
      "text/plain": [
       "              business_id  cool       date  funny  stars  \\\n",
       "0  vT12uXtdBQ10_lUcl-M40w     0 2015-01-01      0      1   \n",
       "1  aWMxTWSEqBvH2KhdGPLibQ     0 2015-01-01      0      3   \n",
       "2  Z98h1BhssZeFfZvcVTYOpw     0 2015-01-01      0      2   \n",
       "3  3rwM9fPYPk9qDkEBOhyHbg     1 2015-01-01      0      5   \n",
       "4  JpYn_HdxQNZQSlWWv4P6Iw     0 2015-01-01      0      3   \n",
       "\n",
       "                                                text  useful  \\\n",
       "0  terrible experience....I am a local first of a...       0   \n",
       "1  Bad service at this location.\\n\\nGood iced cof...       0   \n",
       "2  We have been to Maya's many times since it fir...       1   \n",
       "3  booked the hotel for new years, over the phone...       1   \n",
       "4  Good, not great. Not a ton of tea options but ...       1   \n",
       "\n",
       "                  user_id  \n",
       "0  C_xtIn19eKivN335dzjadg  \n",
       "1  T7J9ae0wTskrI_Bgwp-4cA  \n",
       "2  O7WaUuYwX45Ia6Mvf01UCw  \n",
       "3  kq-4vbC1cHQbRKyDmwERSA  \n",
       "4  XweddetOpWNuJQ5mLb_5JQ  "
      ]
     },
     "execution_count": 4,
     "metadata": {},
     "output_type": "execute_result"
    }
   ],
   "source": [
    "data.head()"
   ]
  },
  {
   "cell_type": "markdown",
   "metadata": {},
   "source": [
    "We'll start by drawing a 50,000 observation sample for the dataset to make parameter tuning reasonable – the full dataset can take a very long time to run.\n",
    "\n",
    "I've also decided to take only the top 10,000 words in the vocabulary across reviews. Messing with this number seemed to make relatively little difference in accuracy (slight improvement over no limit)."
   ]
  },
  {
   "cell_type": "code",
   "execution_count": 177,
   "metadata": {
    "collapsed": true
   },
   "outputs": [],
   "source": [
    "samp = data.sample(50000) #draw samples"
   ]
  },
  {
   "cell_type": "code",
   "execution_count": 178,
   "metadata": {
    "collapsed": false
   },
   "outputs": [],
   "source": [
    "vectorizer = CountVectorizer(stop_words='english', binary=False, max_features=10000) #using non-binary Count Vec.\n",
    "reviews = samp.text.values\n",
    "\n",
    "#tokenize words\n",
    "x = vectorizer.fit_transform(reviews)"
   ]
  },
  {
   "cell_type": "code",
   "execution_count": 179,
   "metadata": {
    "collapsed": false
   },
   "outputs": [],
   "source": [
    "binary_y = [] #class observations according to whether they have at least one \"helpful\" vote\n",
    "\n",
    "for score in samp.useful.values:\n",
    "    i = 1 if score > 0 else 0\n",
    "    binary_y.append(i)"
   ]
  },
  {
   "cell_type": "code",
   "execution_count": 181,
   "metadata": {
    "collapsed": false
   },
   "outputs": [
    {
     "name": "stdout",
     "output_type": "stream",
     "text": [
      "C= 0.0001 : 0.648200018119\n",
      "C= 0.001 : 0.665199987732\n",
      "C= 0.01 : 0.667199959733\n",
      "C= 0.1 : 0.656480036126\n",
      "C= 1 : 0.632299974905\n",
      "C= 10 : 0.609219909686\n",
      "C= 100 : 0.604479922882\n"
     ]
    },
    {
     "data": {
      "image/png": "[encoded data removed]",
      "text/plain": [
       "<matplotlib.figure.Figure at 0x168b43090>"
      ]
     },
     "metadata": {},
     "output_type": "display_data"
    }
   ],
   "source": [
    "cvals = [0.0001, 0.001, 0.01, 0.1, 1, 10, 100]\n",
    "scores = []\n",
    "for c in cvals: #try cross validating the data with different regularization parameters\n",
    "    log_model = LogReg(C=c, penalty='l2') #initiate unregularized logistic regression model\n",
    "    score = cross_val_score(log_model, x, binary_y, n_jobs=-1).mean() #cross validate\n",
    "    scores.append(score)\n",
    "    print \"C=\",c ,\":\", score\n",
    "    \n",
    "    \n",
    "plt.plot(cvals, scores)\n",
    "plt.xscale('log')\n",
    "plt.title(\"Accuracy by Regularization Parameter value\")\n",
    "plt.xlabel(\"Parameter value\")\n",
    "plt.ylabel(\"Accuracy\")\n",
    "plt.grid()\n",
    "plt.show()"
   ]
  },
  {
   "cell_type": "code",
   "execution_count": 152,
   "metadata": {
    "collapsed": false
   },
   "outputs": [
    {
     "name": "stdout",
     "output_type": "stream",
     "text": [
      "Cross Validated Accuracy on Sample: 0.663440019331\n"
     ]
    }
   ],
   "source": [
    "log_model = LogReg(C=0.01, penalty='l2') #initialize logistic regression model\n",
    "print \"Cross Validated Accuracy on Sample:\", cross_val_score(log_model, x, binary_y, n_jobs=-1).mean()"
   ]
  },
  {
   "cell_type": "markdown",
   "metadata": {},
   "source": [
    "Let's take a closer look at what's going on. What kinds of mistakes does our baseline model make?"
   ]
  },
  {
   "cell_type": "code",
   "execution_count": 171,
   "metadata": {
    "collapsed": false
   },
   "outputs": [
    {
     "name": "stdout",
     "output_type": "stream",
     "text": [
      "NO CLASS BALANCE CORRECTION\n",
      "[[28774  2303]\n",
      " [12731  6192]]\n",
      "\n",
      "False Positive Rate: 0.0741062522122\n",
      "False Negative Rate: 0.672779157639\n",
      "True Positive Rate: 0.72889935256\n",
      "True Negative Rate: 0.693265871582\n",
      "\n",
      "Accuracy on Positive Reviews: 0.327220842361\n",
      "Accuracy on Negative Reviews: 0.925893747788\n",
      "Overall F1 Score: 0.382408975724\n",
      "\n",
      "\n",
      "WITH CLASS BALANCE CORRECTION\n",
      "[[24058  7019]\n",
      " [ 8277 10646]]\n",
      "\n",
      "False Positive Rate: 0.225858351836\n",
      "False Negative Rate: 0.43740421709\n",
      "True Positive Rate: 0.602660628361\n",
      "True Negative Rate: 0.744023503943\n",
      "\n",
      "Accuracy on Positive Reviews: 0.56259578291\n",
      "Accuracy on Negative Reviews: 0.774141648164\n",
      "Overall F1 Score: 0.513544170346\n"
     ]
    }
   ],
   "source": [
    "log_model = LogReg(C=0.01, penalty='l2') #initialize logistic regression model\n",
    "log_model.fit(x, binary_y)\n",
    "y_pred = log_model.predict(x)\n",
    "binary_y = np.array(binary_y)\n",
    "\n",
    "tn, fp, fn, tp = confusion_matrix(binary_y, y_pred).ravel() #from sklearn docs\n",
    "\n",
    "print \"NO CLASS BALANCE CORRECTION\"\n",
    "print confusion_matrix(binary_y, y_pred)\n",
    "print\n",
    "print \"False Positive Rate:\", fp/float(fp+tn)\n",
    "print \"False Negative Rate:\", fn/float(fn+tp)\n",
    "print \"True Positive Rate:\", tp/float(tp+fp)\n",
    "print \"True Negative Rate:\", tn/float(tn+fn)\n",
    "print\n",
    "print \"Accuracy on Positive Reviews:\", np.mean(y_pred[binary_y == 1] == binary_y[binary_y == 1])\n",
    "print \"Accuracy on Negative Reviews:\", np.mean(y_pred[binary_y == 0] == binary_y[binary_y == 0])\n",
    "\n",
    "print \"Overall F1 Score:\", cross_val_score(log_model, x, binary_y, n_jobs=-1, scoring='f1').mean()\n",
    "\n",
    "#BALANCED CLASSES\n",
    "log_model = LogReg(C=0.01, penalty='l2', class_weight='balanced') #initialize logistic regression model\n",
    "log_model.fit(x, binary_y)\n",
    "y_pred = log_model.predict(x)\n",
    "binary_y = np.array(binary_y)\n",
    "\n",
    "tn, fp, fn, tp = confusion_matrix(binary_y, y_pred).ravel() #from sklearn docs\n",
    "\n",
    "print \"\\n\\nWITH CLASS BALANCE CORRECTION\"\n",
    "print confusion_matrix(binary_y, y_pred)\n",
    "print\n",
    "print \"False Positive Rate:\", fp/float(fp+tn)\n",
    "print \"False Negative Rate:\", fn/float(fn+tp)\n",
    "print \"True Positive Rate:\", tp/float(tp+fp)\n",
    "print \"True Negative Rate:\", tn/float(tn+fn)\n",
    "print\n",
    "print \"Accuracy on Positive Reviews:\", np.mean(y_pred[binary_y == 1] == binary_y[binary_y == 1])\n",
    "print \"Accuracy on Negative Reviews:\", np.mean(y_pred[binary_y == 0] == binary_y[binary_y == 0])\n",
    "\n",
    "print \"Overall F1 Score:\", cross_val_score(log_model, x, binary_y, n_jobs=-1, scoring='f1').mean()"
   ]
  },
  {
   "cell_type": "markdown",
   "metadata": {},
   "source": [
    "It appears that our model is having a difficult time dealing with the class imbalance. Our F1 metric and confusion matrices are instructive here – There are a large number of false negatives (helpful reviews labeled as unhelpful) in the unweighted sample. Assigning balanced weighting balances the false positive and false negative rates at the cost of a slight overall dip in accuracy. It leads to a significant increase in F1 score, a more robust metric for classification models.\n",
    "\n",
    "Now let's use the same procedure on the full dataset using the C parameter we selected. This dataset seems to benefit from relatively strong regularization."
   ]
  },
  {
   "cell_type": "code",
   "execution_count": 183,
   "metadata": {
    "collapsed": false
   },
   "outputs": [],
   "source": [
    "#same procedure on full dataset\n",
    "\n",
    "vectorizer = CountVectorizer(stop_words='english', binary=False, max_features=10000) #using non-binary Count Vec.\n",
    "reviews = data.text.values\n",
    "x = vectorizer.fit_transform(reviews)\n",
    "\n",
    "binary_y = []\n",
    "\n",
    "for score in data.useful.values:\n",
    "    i = 1 if score > 0 else 0\n",
    "    binary_y.append(i)"
   ]
  },
  {
   "cell_type": "code",
   "execution_count": 184,
   "metadata": {
    "collapsed": false
   },
   "outputs": [
    {
     "name": "stdout",
     "output_type": "stream",
     "text": [
      "Accuracy: 0.655811589563\n",
      "F1 Score: 0.525505082492\n",
      "\n",
      "\n",
      "WITH CLASS BALANCE CORRECTION\n",
      "[[314277 101194]\n",
      " [119596 131748]]\n",
      "\n",
      "False Positive Rate: 0.243564532783\n",
      "False Negative Rate: 0.475825959641\n",
      "True Positive Rate: 0.56558284895\n",
      "True Negative Rate: 0.724352517903\n",
      "\n",
      "Accuracy on Positive Reviews: 0.524174040359\n",
      "Accuracy on Negative Reviews: 0.756435467217\n",
      "Overall F1 Score: 0.525505082492\n"
     ]
    }
   ],
   "source": [
    "log_model = LogReg(C=0.01, penalty='l2', class_weight='balanced') #initialize logistic regression model\n",
    "print \"Accuracy:\", cross_val_score(log_model, x, binary_y, n_jobs=-1).mean()\n",
    "print \"F1 Score:\",cross_val_score(log_model, x, binary_y, scoring='f1', n_jobs=-1).mean()\n",
    "\n",
    "log_model.fit(x, binary_y)\n",
    "y_pred = log_model.predict(x)\n",
    "binary_y = np.array(binary_y)\n",
    "\n",
    "tn, fp, fn, tp = confusion_matrix(binary_y, y_pred).ravel() #from sklearn docs\n",
    "\n",
    "print \"\\n\\nWITH CLASS BALANCE CORRECTION\"\n",
    "print confusion_matrix(binary_y, y_pred)\n",
    "print\n",
    "print \"False Positive Rate:\", fp/float(fp+tn)\n",
    "print \"False Negative Rate:\", fn/float(fn+tp)\n",
    "print \"True Positive Rate:\", tp/float(tp+fp)\n",
    "print \"True Negative Rate:\", tn/float(tn+fn)\n",
    "print\n",
    "print \"Accuracy on Positive Reviews:\", np.mean(y_pred[binary_y == 1] == binary_y[binary_y == 1])\n",
    "print \"Accuracy on Negative Reviews:\", np.mean(y_pred[binary_y == 0] == binary_y[binary_y == 0])\n",
    "\n",
    "print \"Overall F1 Score:\", cross_val_score(log_model, x, binary_y, n_jobs=-1, scoring='f1').mean()"
   ]
  },
  {
   "cell_type": "markdown",
   "metadata": {},
   "source": [
    "Overall, while our baseline model establishes some degree of separation between helpful and unhelpful reviews it seems to have a relatively low accuracy and F1 score even when tuned. This is likely due to a confounding element of our question: the reality that reviews can lack \"useful\" votes for multiple reasons. \n",
    "\n",
    "On one hand, a review can have no useful votes when it actually contains useless content. This is the sort of review we'd like to classify as 0 or useless. On the other hand, a great review can recieve no useful votes simply because it goes unnoticed by other Yelp users. This likely impedes our model's capacity to make solid predictions regarding a review's helpfulness. A \"denominator\" value such as the sort seen in the Amazon dataset we looked at previously would help alleviate this issue.\n",
    "\n",
    "Given this difficulty, it will make sense for us to fit some additional models to the data to see which works best. Playing with class weights would also make sense, as the model currently seems to be making a fair number of false negative errors (which are severely impacting its performance). We can also explore other proxies for review quality, such as ratios between the different review classifications (useful, cool, funny) for a different review. Our baseline modeling approach is also extensible to direct analysis of the lingustic characteristics correlating with these other classifications.\n",
    "\n",
    "This model represents a decent start to what will be a more involved and nuanced project. Our next steps will be to play around with other modeling techniques and adjust parameters and inputs/weighting to try to reduce our false postiive and negative rates."
   ]
  },
  {
   "cell_type": "code",
   "execution_count": null,
   "metadata": {
    "collapsed": true
   },
   "outputs": [],
   "source": []
  }
 ],
 "metadata": {
  "anaconda-cloud": {},
  "kernelspec": {
   "display_name": "Python [Root]",
   "language": "python",
   "name": "Python [Root]"
  },
  "language_info": {
   "codemirror_mode": {
    "name": "ipython",
    "version": 2
   },
   "file_extension": ".py",
   "mimetype": "text/x-python",
   "name": "python",
   "nbconvert_exporter": "python",
   "pygments_lexer": "ipython2",
   "version": "2.7.12"
  }
 },
 "nbformat": 4,
 "nbformat_minor": 0
}
