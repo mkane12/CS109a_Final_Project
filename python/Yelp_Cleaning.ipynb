{
 "cells": [
  {
   "cell_type": "code",
   "execution_count": 2,
   "metadata": {
    "collapsed": false
   },
   "outputs": [],
   "source": [
    "import pandas as pd\n",
    "import numpy as np\n",
    "import json\n",
    "%matplotlib inline"
   ]
  },
  {
   "cell_type": "code",
   "execution_count": 3,
   "metadata": {
    "collapsed": false
   },
   "outputs": [],
   "source": [
    "data = []\n",
    "with open('./datasets/reviews.json') as f:\n",
    "    for line in f:\n",
    "        data.append(json.loads(line))\n",
    "        \n",
    "for rev in data:\n",
    "    rev['cool'] = rev['votes']['cool']\n",
    "    rev['funny'] = rev['votes']['funny']\n",
    "    rev['useful'] = rev['votes']['useful']\n",
    "    del rev['votes']"
   ]
  },
  {
   "cell_type": "code",
   "execution_count": 6,
   "metadata": {
    "collapsed": false
   },
   "outputs": [
    {
     "name": "stdout",
     "output_type": "stream",
     "text": [
      "17 duplicates dropped\n"
     ]
    }
   ],
   "source": [
    "reviews.duplicated(subset=['business_id', 'text', 'date', 'user_id'])\n",
    "before = reviews.shape[0]\n",
    "reviews = reviews.drop(reviews[reviews.duplicated(subset=['business_id', 'text', 'date', 'user_id'])].index)\n",
    "after = reviews.shape[0]\n",
    "\n",
    "print before - after, \"duplicates dropped\""
   ]
  },
  {
   "cell_type": "code",
   "execution_count": 7,
   "metadata": {
    "collapsed": false
   },
   "outputs": [],
   "source": [
    "reviews_2015 = reviews[(reviews['date'] >= '2015-01-01') & (reviews['date'] < '2016-01-01')]\n",
    "del reviews_2015['review_id']\n",
    "del reviews_2015['type']"
   ]
  },
  {
   "cell_type": "code",
   "execution_count": 8,
   "metadata": {
    "collapsed": false
   },
   "outputs": [
    {
     "name": "stdout",
     "output_type": "stream",
     "text": [
      "(666815, 8)\n"
     ]
    }
   ],
   "source": [
    "print reviews_2015.shape"
   ]
  },
  {
   "cell_type": "code",
   "execution_count": 9,
   "metadata": {
    "collapsed": true
   },
   "outputs": [],
   "source": [
    "reviews_2015.to_json(\"json_2015.json\", orient='records')"
   ]
  },
  {
   "cell_type": "code",
   "execution_count": null,
   "metadata": {
    "collapsed": true
   },
   "outputs": [],
   "source": []
  }
 ],
 "metadata": {
  "kernelspec": {
   "display_name": "Python [Root]",
   "language": "python",
   "name": "Python [Root]"
  },
  "language_info": {
   "codemirror_mode": {
    "name": "ipython",
    "version": 2
   },
   "file_extension": ".py",
   "mimetype": "text/x-python",
   "name": "python",
   "nbconvert_exporter": "python",
   "pygments_lexer": "ipython2",
   "version": "2.7.12"
  }
 },
 "nbformat": 4,
 "nbformat_minor": 0
}
