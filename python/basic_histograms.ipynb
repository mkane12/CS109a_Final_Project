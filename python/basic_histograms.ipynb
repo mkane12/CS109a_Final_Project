{
 "cells": [
  {
   "cell_type": "code",
   "execution_count": 1,
   "metadata": {
    "collapsed": false
   },
   "outputs": [
    {
     "name": "stderr",
     "output_type": "stream",
     "text": [
      "/Users/nishaswarup/anaconda2/lib/python2.7/site-packages/matplotlib/font_manager.py:273: UserWarning: Matplotlib is building the font cache using fc-list. This may take a moment.\n",
      "  warnings.warn('Matplotlib is building the font cache using fc-list. This may take a moment.')\n"
     ]
    }
   ],
   "source": [
    "import numpy as np\n",
    "import matplotlib\n",
    "import matplotlib.pyplot as plt\n",
    "from mpl_toolkits.mplot3d import Axes3D\n",
    "import matplotlib.cm as cmx\n",
    "import matplotlib.colors as colors\n",
    "import pandas as pd\n",
    "from sklearn.linear_model import LogisticRegression as LogReg\n",
    "from sklearn.feature_extraction.text import CountVectorizer, TfidfVectorizer\n",
    "from sklearn.feature_extraction.text import TfidfTransformer as Tfidf\n",
    "from sklearn.neighbors import KNeighborsClassifier as KNN\n",
    "from sklearn.decomposition import PCA\n",
    "from sklearn.cross_validation import KFold, cross_val_score\n",
    "from sklearn.metrics import confusion_matrix\n",
    "from sklearn import preprocessing\n",
    "%matplotlib inline"
   ]
  },
  {
   "cell_type": "code",
   "execution_count": 2,
   "metadata": {
    "collapsed": true
   },
   "outputs": [],
   "source": [
    "data = pd.read_json('json_2015.json')"
   ]
  },
  {
   "cell_type": "code",
   "execution_count": 3,
   "metadata": {
    "collapsed": false
   },
   "outputs": [
    {
     "data": {
      "text/html": [
       "<div>\n",
       "<table border=\"1\" class=\"dataframe\">\n",
       "  <thead>\n",
       "    <tr style=\"text-align: right;\">\n",
       "      <th></th>\n",
       "      <th>business_id</th>\n",
       "      <th>cool</th>\n",
       "      <th>date</th>\n",
       "      <th>funny</th>\n",
       "      <th>stars</th>\n",
       "      <th>text</th>\n",
       "      <th>useful</th>\n",
       "      <th>user_id</th>\n",
       "    </tr>\n",
       "  </thead>\n",
       "  <tbody>\n",
       "    <tr>\n",
       "      <th>0</th>\n",
       "      <td>vT12uXtdBQ10_lUcl-M40w</td>\n",
       "      <td>0</td>\n",
       "      <td>2015-01-01</td>\n",
       "      <td>0</td>\n",
       "      <td>1</td>\n",
       "      <td>terrible experience....I am a local first of a...</td>\n",
       "      <td>0</td>\n",
       "      <td>C_xtIn19eKivN335dzjadg</td>\n",
       "    </tr>\n",
       "    <tr>\n",
       "      <th>1</th>\n",
       "      <td>aWMxTWSEqBvH2KhdGPLibQ</td>\n",
       "      <td>0</td>\n",
       "      <td>2015-01-01</td>\n",
       "      <td>0</td>\n",
       "      <td>3</td>\n",
       "      <td>Bad service at this location.\\n\\nGood iced cof...</td>\n",
       "      <td>0</td>\n",
       "      <td>T7J9ae0wTskrI_Bgwp-4cA</td>\n",
       "    </tr>\n",
       "    <tr>\n",
       "      <th>2</th>\n",
       "      <td>Z98h1BhssZeFfZvcVTYOpw</td>\n",
       "      <td>0</td>\n",
       "      <td>2015-01-01</td>\n",
       "      <td>0</td>\n",
       "      <td>2</td>\n",
       "      <td>We have been to Maya's many times since it fir...</td>\n",
       "      <td>1</td>\n",
       "      <td>O7WaUuYwX45Ia6Mvf01UCw</td>\n",
       "    </tr>\n",
       "    <tr>\n",
       "      <th>3</th>\n",
       "      <td>3rwM9fPYPk9qDkEBOhyHbg</td>\n",
       "      <td>1</td>\n",
       "      <td>2015-01-01</td>\n",
       "      <td>0</td>\n",
       "      <td>5</td>\n",
       "      <td>booked the hotel for new years, over the phone...</td>\n",
       "      <td>1</td>\n",
       "      <td>kq-4vbC1cHQbRKyDmwERSA</td>\n",
       "    </tr>\n",
       "    <tr>\n",
       "      <th>4</th>\n",
       "      <td>JpYn_HdxQNZQSlWWv4P6Iw</td>\n",
       "      <td>0</td>\n",
       "      <td>2015-01-01</td>\n",
       "      <td>0</td>\n",
       "      <td>3</td>\n",
       "      <td>Good, not great. Not a ton of tea options but ...</td>\n",
       "      <td>1</td>\n",
       "      <td>XweddetOpWNuJQ5mLb_5JQ</td>\n",
       "    </tr>\n",
       "  </tbody>\n",
       "</table>\n",
       "</div>"
      ],
      "text/plain": [
       "              business_id  cool       date  funny  stars  \\\n",
       "0  vT12uXtdBQ10_lUcl-M40w     0 2015-01-01      0      1   \n",
       "1  aWMxTWSEqBvH2KhdGPLibQ     0 2015-01-01      0      3   \n",
       "2  Z98h1BhssZeFfZvcVTYOpw     0 2015-01-01      0      2   \n",
       "3  3rwM9fPYPk9qDkEBOhyHbg     1 2015-01-01      0      5   \n",
       "4  JpYn_HdxQNZQSlWWv4P6Iw     0 2015-01-01      0      3   \n",
       "\n",
       "                                                text  useful  \\\n",
       "0  terrible experience....I am a local first of a...       0   \n",
       "1  Bad service at this location.\\n\\nGood iced cof...       0   \n",
       "2  We have been to Maya's many times since it fir...       1   \n",
       "3  booked the hotel for new years, over the phone...       1   \n",
       "4  Good, not great. Not a ton of tea options but ...       1   \n",
       "\n",
       "                  user_id  \n",
       "0  C_xtIn19eKivN335dzjadg  \n",
       "1  T7J9ae0wTskrI_Bgwp-4cA  \n",
       "2  O7WaUuYwX45Ia6Mvf01UCw  \n",
       "3  kq-4vbC1cHQbRKyDmwERSA  \n",
       "4  XweddetOpWNuJQ5mLb_5JQ  "
      ]
     },
     "execution_count": 3,
     "metadata": {},
     "output_type": "execute_result"
    }
   ],
   "source": [
    "data.head()"
   ]
  },
  {
   "cell_type": "code",
   "execution_count": 4,
   "metadata": {
    "collapsed": true
   },
   "outputs": [],
   "source": [
    "samp = data.sample(50000) #draw samples"
   ]
  },
  {
   "cell_type": "code",
   "execution_count": 17,
   "metadata": {
    "collapsed": false
   },
   "outputs": [
    {
     "data": {
      "text/plain": [
       "(array([  6.26337000e+05,   2.01100000e+04,   1.17740000e+04,\n",
       "          2.41300000e+03,   2.57600000e+03,   7.56000000e+02,\n",
       "          9.47000000e+02,   2.98000000e+02,   3.98000000e+02,\n",
       "          2.80000000e+02]),\n",
       " array([  0. ,   1.5,   3. ,   4.5,   6. ,   7.5,   9. ,  10.5,  12. ,\n",
       "         13.5,  15. ]),\n",
       " <a list of 10 Patch objects>)"
      ]
     },
     "execution_count": 17,
     "metadata": {},
     "output_type": "execute_result"
    },
    {
     "data": {
      "image/png": "[encoded data removed]",
      "text/plain": [
       "<matplotlib.figure.Figure at 0x209751290>"
      ]
     },
     "metadata": {},
     "output_type": "display_data"
    }
   ],
   "source": [
    "plt.hist(data['funny'], range=[0, 15])\n",
    "plt.x_label('Number of Funny Votes')\n",
    "plt.y_label('Frequency')"
   ]
  },
  {
   "cell_type": "code",
   "execution_count": 16,
   "metadata": {
    "collapsed": false
   },
   "outputs": [
    {
     "data": {
      "text/plain": [
       "(array([ 74917.,  27981.,   6316.,   2576.,   1308.,    693.,    398.,\n",
       "           280.,    191.,    176.]),\n",
       " array([  0.,   2.,   4.,   6.,   8.,  10.,  12.,  14.,  16.,  18.,  20.]),\n",
       " <a list of 10 Patch objects>)"
      ]
     },
     "execution_count": 16,
     "metadata": {},
     "output_type": "execute_result"
    },
    {
     "data": {
      "image/png": "[encoded data removed]",
      "text/plain": [
       "<matplotlib.figure.Figure at 0x209751650>"
      ]
     },
     "metadata": {},
     "output_type": "display_data"
    }
   ],
   "source": [
    "plt.hist(data['funny'].iloc[data['funny'].nonzero()[0]], range=[0, 15])\n",
    "plt.x_label('Number of Funny Votes')\n",
    "plt.y_label('Frequency')"
   ]
  },
  {
   "cell_type": "code",
   "execution_count": 21,
   "metadata": {
    "collapsed": false
   },
   "outputs": [
    {
     "name": "stdout",
     "output_type": "stream",
     "text": [
      "Number of ratings for which there were 0 funny votes:  551420\n"
     ]
    }
   ],
   "source": [
    "print 'Number of ratings for which there were 0 funny votes: ', len(data['funny']) - len(data['funny'].iloc[data['funny'].nonzero()[0]])"
   ]
  },
  {
   "cell_type": "code",
   "execution_count": 18,
   "metadata": {
    "collapsed": false
   },
   "outputs": [
    {
     "data": {
      "text/plain": [
       "(array([ 557552.,   53363.,   34407.,    6252.,    6517.,    1813.,\n",
       "           2396.,     771.,    1038.,     668.]),\n",
       " array([  0. ,   1.5,   3. ,   4.5,   6. ,   7.5,   9. ,  10.5,  12. ,\n",
       "         13.5,  15. ]),\n",
       " <a list of 10 Patch objects>)"
      ]
     },
     "execution_count": 18,
     "metadata": {},
     "output_type": "execute_result"
    },
    {
     "data": {
      "image/png": "[encoded data removed]",
      "text/plain": [
       "<matplotlib.figure.Figure at 0x20389b150>"
      ]
     },
     "metadata": {},
     "output_type": "display_data"
    }
   ],
   "source": [
    "plt.hist(data['useful'], range=[0, 15])"
   ]
  },
  {
   "cell_type": "code",
   "execution_count": 19,
   "metadata": {
    "collapsed": false
   },
   "outputs": [
    {
     "data": {
      "text/plain": [
       "(array([ 142081.,   53363.,   34407.,    6252.,    6517.,    1813.,\n",
       "           2396.,     771.,    1038.,     668.]),\n",
       " array([  0. ,   1.5,   3. ,   4.5,   6. ,   7.5,   9. ,  10.5,  12. ,\n",
       "         13.5,  15. ]),\n",
       " <a list of 10 Patch objects>)"
      ]
     },
     "execution_count": 19,
     "metadata": {},
     "output_type": "execute_result"
    },
    {
     "data": {
      "image/png": "[encoded data removed]",
      "text/plain": [
       "<matplotlib.figure.Figure at 0x20389b210>"
      ]
     },
     "metadata": {},
     "output_type": "display_data"
    }
   ],
   "source": [
    "plt.hist(data['useful'].iloc[data['useful'].nonzero()[0]], range=[0, 15])"
   ]
  },
  {
   "cell_type": "code",
   "execution_count": 22,
   "metadata": {
    "collapsed": false
   },
   "outputs": [
    {
     "name": "stdout",
     "output_type": "stream",
     "text": [
      "Number of ratings for which there were 0 useful votes:  415471\n"
     ]
    }
   ],
   "source": [
    "print 'Number of ratings for which there were 0 useful votes: ', len(data['useful']) - len(data['useful'].iloc[data['useful'].nonzero()[0]])"
   ]
  },
  {
   "cell_type": "code",
   "execution_count": null,
   "metadata": {
    "collapsed": true
   },
   "outputs": [],
   "source": []
  }
 ],
 "metadata": {
  "anaconda-cloud": {},
  "kernelspec": {
   "display_name": "Python [Root]",
   "language": "python",
   "name": "Python [Root]"
  },
  "language_info": {
   "codemirror_mode": {
    "name": "ipython",
    "version": 2
   },
   "file_extension": ".py",
   "mimetype": "text/x-python",
   "name": "python",
   "nbconvert_exporter": "python",
   "pygments_lexer": "ipython2",
   "version": "2.7.12"
  }
 },
 "nbformat": 4,
 "nbformat_minor": 0
}
