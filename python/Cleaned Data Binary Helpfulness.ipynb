{
 "cells": [
  {
   "cell_type": "code",
   "execution_count": 420,
   "metadata": {
    "collapsed": false
   },
   "outputs": [],
   "source": [
    "import numpy as np\n",
    "import pandas as pd\n",
    "from urllib2 import Request, urlopen\n",
    "import json\n",
    "import sys\n",
    "from pandas.io.json import json_normalize\n",
    "from sklearn.feature_extraction.text import CountVectorizer\n",
    "from sklearn.preprocessing import LabelEncoder\n",
    "from sklearn.decomposition import PCA\n",
    "from sklearn.feature_extraction.text import TfidfTransformer\n",
    "from sklearn.naive_bayes import MultinomialNB\n",
    "from sklearn.pipeline import Pipeline\n",
    "from sklearn.grid_search import GridSearchCV\n",
    "from sklearn.cross_validation import KFold, cross_val_score\n",
    "from sklearn.ensemble import RandomForestClassifier\n",
    "from sklearn.linear_model import LogisticRegression as LogReg\n",
    "from sklearn.linear_model import LogisticRegressionCV as LogRegCV\n",
    "from sklearn import svm\n",
    "import matplotlib\n",
    "import matplotlib.pyplot as plt\n",
    "from mpl_toolkits.mplot3d import Axes3D\n",
    "from sklearn.preprocessing import LabelEncoder\n",
    "from sklearn.metrics import confusion_matrix\n",
    "%matplotlib inline"
   ]
  },
  {
   "cell_type": "markdown",
   "metadata": {},
   "source": [
    "Import the CSV."
   ]
  },
  {
   "cell_type": "code",
   "execution_count": 421,
   "metadata": {
    "collapsed": false
   },
   "outputs": [
    {
     "data": {
      "text/html": [
       "<div>\n",
       "<table border=\"1\" class=\"dataframe\">\n",
       "  <thead>\n",
       "    <tr style=\"text-align: right;\">\n",
       "      <th></th>\n",
       "      <th>Id</th>\n",
       "      <th>ProductId</th>\n",
       "      <th>UserId</th>\n",
       "      <th>ProfileName</th>\n",
       "      <th>HelpfulnessNumerator</th>\n",
       "      <th>HelpfulnessDenominator</th>\n",
       "      <th>Score</th>\n",
       "      <th>Time</th>\n",
       "      <th>Summary</th>\n",
       "      <th>Text</th>\n",
       "    </tr>\n",
       "  </thead>\n",
       "  <tbody>\n",
       "    <tr>\n",
       "      <th>0</th>\n",
       "      <td>1</td>\n",
       "      <td>B001E4KFG0</td>\n",
       "      <td>A3SGXH7AUHU8GW</td>\n",
       "      <td>delmartian</td>\n",
       "      <td>1</td>\n",
       "      <td>1</td>\n",
       "      <td>5</td>\n",
       "      <td>1303862400</td>\n",
       "      <td>Good Quality Dog Food</td>\n",
       "      <td>I have bought several of the Vitality canned d...</td>\n",
       "    </tr>\n",
       "    <tr>\n",
       "      <th>1</th>\n",
       "      <td>2</td>\n",
       "      <td>B00813GRG4</td>\n",
       "      <td>A1D87F6ZCVE5NK</td>\n",
       "      <td>dll pa</td>\n",
       "      <td>0</td>\n",
       "      <td>0</td>\n",
       "      <td>1</td>\n",
       "      <td>1346976000</td>\n",
       "      <td>Not as Advertised</td>\n",
       "      <td>Product arrived labeled as Jumbo Salted Peanut...</td>\n",
       "    </tr>\n",
       "    <tr>\n",
       "      <th>2</th>\n",
       "      <td>3</td>\n",
       "      <td>B000LQOCH0</td>\n",
       "      <td>ABXLMWJIXXAIN</td>\n",
       "      <td>Natalia Corres \"Natalia Corres\"</td>\n",
       "      <td>1</td>\n",
       "      <td>1</td>\n",
       "      <td>4</td>\n",
       "      <td>1219017600</td>\n",
       "      <td>\"Delight\" says it all</td>\n",
       "      <td>This is a confection that has been around a fe...</td>\n",
       "    </tr>\n",
       "  </tbody>\n",
       "</table>\n",
       "</div>"
      ],
      "text/plain": [
       "   Id   ProductId          UserId                      ProfileName  \\\n",
       "0   1  B001E4KFG0  A3SGXH7AUHU8GW                       delmartian   \n",
       "1   2  B00813GRG4  A1D87F6ZCVE5NK                           dll pa   \n",
       "2   3  B000LQOCH0   ABXLMWJIXXAIN  Natalia Corres \"Natalia Corres\"   \n",
       "\n",
       "   HelpfulnessNumerator  HelpfulnessDenominator  Score        Time  \\\n",
       "0                     1                       1      5  1303862400   \n",
       "1                     0                       0      1  1346976000   \n",
       "2                     1                       1      4  1219017600   \n",
       "\n",
       "                 Summary                                               Text  \n",
       "0  Good Quality Dog Food  I have bought several of the Vitality canned d...  \n",
       "1      Not as Advertised  Product arrived labeled as Jumbo Salted Peanut...  \n",
       "2  \"Delight\" says it all  This is a confection that has been around a fe...  "
      ]
     },
     "execution_count": 421,
     "metadata": {},
     "output_type": "execute_result"
    }
   ],
   "source": [
    "cleaned_data = pd.read_csv(\"cleaned_data.csv\")\n",
    "cleaned_data.head(n=3)"
   ]
  },
  {
   "cell_type": "markdown",
   "metadata": {},
   "source": [
    "Sort to reviews where the denominator is over 15."
   ]
  },
  {
   "cell_type": "code",
   "execution_count": 422,
   "metadata": {
    "collapsed": false
   },
   "outputs": [
    {
     "data": {
      "text/plain": [
       "(7786, 10)"
      ]
     },
     "execution_count": 422,
     "metadata": {},
     "output_type": "execute_result"
    }
   ],
   "source": [
    "rand_1400 = cleaned_data[cleaned_data[\"HelpfulnessDenominator\"] > 15]\n",
    "rand_1400.shape"
   ]
  },
  {
   "cell_type": "markdown",
   "metadata": {},
   "source": [
    "Use 1400 reviews, because that's what we did on our hw hat one time."
   ]
  },
  {
   "cell_type": "code",
   "execution_count": 423,
   "metadata": {
    "collapsed": false
   },
   "outputs": [],
   "source": [
    "# rand_1400 = cleaned_data.sample(frac=.18)\n",
    "# rand_1400.shape"
   ]
  },
  {
   "cell_type": "code",
   "execution_count": 424,
   "metadata": {
    "collapsed": false
   },
   "outputs": [
    {
     "data": {
      "text/plain": [
       "'The original set has 395131 entries, while our testing set only has 7786.'"
      ]
     },
     "execution_count": 424,
     "metadata": {},
     "output_type": "execute_result"
    }
   ],
   "source": [
    "'The original set has {0} entries, while our testing set only has {1}.'.format(cleaned_data.shape[0], rand_1400.shape[0])"
   ]
  },
  {
   "cell_type": "markdown",
   "metadata": {},
   "source": [
    "Get some basic data from the set."
   ]
  },
  {
   "cell_type": "code",
   "execution_count": 425,
   "metadata": {
    "collapsed": false
   },
   "outputs": [
    {
     "name": "stdout",
     "output_type": "stream",
     "text": [
      "Range of Review Lengths: 6 words - 2233 words\n",
      "Mean of Review Lengths: 158.85550989\n"
     ]
    },
    {
     "data": {
      "image/png": "[encoded data removed]",
      "text/plain": [
       "<matplotlib.figure.Figure at 0x144003a10>"
      ]
     },
     "metadata": {},
     "output_type": "display_data"
    }
   ],
   "source": [
    "# Splits each review by spaces.\n",
    "lengths = rand_1400['Text'].apply(lambda x: len(x.split(' ')))\n",
    "\n",
    "print 'Range of Review Lengths: {0} words - {1} words'.format(np.min(lengths), np.max(lengths))\n",
    "print 'Mean of Review Lengths: {}'.format(np.mean(lengths))\n",
    "\n",
    "fig, ax = plt.subplots(1, 1, figsize=(15, 6))\n",
    "\n",
    "# Histogram of the word counts in each post\n",
    "ax.hist(lengths, color='blue', bins=60, alpha=0.5)\n",
    "\n",
    "ax.set_xlabel('Number of Words in Post')\n",
    "ax.set_ylabel('Number of Posts')\n",
    "ax.set_title('Histogram of Length of Posts')\n",
    "\n",
    "plt.show()"
   ]
  },
  {
   "cell_type": "markdown",
   "metadata": {},
   "source": [
    "Create a vectorizer. Get the names of all the words. Get the frequency of the words. Zip that shit together and return the top 20 words, using the frequency part of the tuple."
   ]
  },
  {
   "cell_type": "code",
   "execution_count": 426,
   "metadata": {
    "collapsed": false
   },
   "outputs": [],
   "source": [
    "# Create a text vectorizer (turns text into array of numbers)\n",
    "vectorizer = CountVectorizer(stop_words='english', min_df=1, binary=True)\n",
    "\n",
    "# Get all the text from data\n",
    "corpus = rand_1400['Text'].values\n",
    "\n",
    "# Turn each text into an array of word counts\n",
    "x = vectorizer.fit_transform(corpus)\n",
    "x = x.toarray()\n",
    "\n",
    "# Get the names of all the words we're counting\n",
    "feature_names = vectorizer.get_feature_names()\n",
    "\n",
    "#Number of top words\n",
    "n = 20\n",
    "\n",
    "#Count the number of time each word occurs in the entire dataset\n",
    "word_freq = x.sum(axis=0)\n",
    "\n",
    "#Sort the words by their total frequency in the dataset\n",
    "words = zip(word_freq, feature_names)\n",
    "top_words = (sorted(words, key=lambda t: t[0], reverse=True))[:n]"
   ]
  },
  {
   "cell_type": "markdown",
   "metadata": {},
   "source": [
    "Plot the top 20 words."
   ]
  },
  {
   "cell_type": "code",
   "execution_count": 427,
   "metadata": {
    "collapsed": false
   },
   "outputs": [
    {
     "data": {
      "image/png": "[encoded data removed]",
      "text/plain": [
       "<matplotlib.figure.Figure at 0x1466e8ed0>"
      ]
     },
     "metadata": {},
     "output_type": "display_data"
    }
   ],
   "source": [
    "fig, ax = plt.subplots(1, 1, figsize=(15, 6))\n",
    "\n",
    "# Number of bars to use\n",
    "indices = np.arange(n)\n",
    "# Where to put the label under each bar\n",
    "width = 0.5\n",
    "# Bar plot of the frequencies of the top words\n",
    "ax.bar(indices, [word[0] for word in top_words], color='blue', alpha=0.5)\n",
    "\n",
    "ax.set_ylabel('Frequency')\n",
    "ax.set_title('Top ' + str(n) + ' Words')\n",
    "\n",
    "# Label the bars with the top words\n",
    "ax.set_xticks(indices + width)\n",
    "ax.set_xticklabels([word[1] for word in top_words])\n",
    "\n",
    "# Turn the labels sideways so they don't overlap\n",
    "labels = ax.get_xticklabels()\n",
    "plt.setp(labels, rotation=30, fontsize=10)\n",
    "\n",
    "plt.show()"
   ]
  },
  {
   "cell_type": "markdown",
   "metadata": {},
   "source": [
    "Create a y np.array using the helpfulness numerator over the denominator."
   ]
  },
  {
   "cell_type": "code",
   "execution_count": 428,
   "metadata": {
    "collapsed": false
   },
   "outputs": [
    {
     "name": "stdout",
     "output_type": "stream",
     "text": [
      "[ 5  5 14 32 24 22 18 11 14 17]\n",
      "[ 16.  27.  17.  36.  27.  25.  26.  24.  21.  17.]\n",
      "[ 0.3125      0.18518519  0.82352941  0.88888889  0.88888889  0.88\n",
      "  0.69230769  0.45833333  0.66666667  1.        ]\n"
     ]
    }
   ],
   "source": [
    "# Encode the class labels, things sometimes get funky if you don't do this.\n",
    "y_numerator = rand_1400['HelpfulnessNumerator'].values\n",
    "y_denominator = (rand_1400['HelpfulnessDenominator'].values).astype(float)\n",
    "y = y_numerator / y_denominator\n",
    "\n",
    "print y_numerator[20:30]\n",
    "print y_denominator[20:30]\n",
    "print y[20:30]"
   ]
  },
  {
   "cell_type": "markdown",
   "metadata": {},
   "source": [
    "Check the number of reviews for consistency."
   ]
  },
  {
   "cell_type": "code",
   "execution_count": 429,
   "metadata": {
    "collapsed": false
   },
   "outputs": [
    {
     "name": "stdout",
     "output_type": "stream",
     "text": [
      "Number of sub 50% reviews: 1402\n",
      "Number of sub 100% reviews: 6384\n"
     ]
    }
   ],
   "source": [
    "# print 'Number of sub 33% reviews:', len(y[y <= 1./3])\n",
    "# print 'Number of sub 67% reviews:', len(y[(y > 1./3) & (y < 2./3)])\n",
    "# print 'Number of sub 100% reviews:', len(y[y >= 2./3])\n",
    "print 'Number of sub 50% reviews:', len(y[y <= 1./2])\n",
    "print 'Number of sub 100% reviews:', len(y[y > 1./2])"
   ]
  },
  {
   "cell_type": "markdown",
   "metadata": {},
   "source": [
    "Convert to a 1 vs 2 system, where reviews are given a 2 if over half of users found them helpful and a 1 otherwise. Check the number of reviews for consistency."
   ]
  },
  {
   "cell_type": "code",
   "execution_count": 430,
   "metadata": {
    "collapsed": false
   },
   "outputs": [],
   "source": [
    "y[y > 1./2] = 2\n",
    "y[y <= 1./2] = 1"
   ]
  },
  {
   "cell_type": "code",
   "execution_count": 431,
   "metadata": {
    "collapsed": false
   },
   "outputs": [
    {
     "name": "stdout",
     "output_type": "stream",
     "text": [
      "Number of sub 50% reviews: 1402\n",
      "Number of sub 100% reviews: 6384\n"
     ]
    }
   ],
   "source": [
    "# print 'Number of sub 34% reviews:', len(y[y == 1])\n",
    "# print 'Number of sub 67% reviews:', len(y[y == 2])\n",
    "# print 'Number of sub 100% reviews:', len(y[y == 3])\n",
    "print 'Number of sub 50% reviews:', len(y[y == 1])\n",
    "print 'Number of sub 100% reviews:', len(y[y == 2])"
   ]
  },
  {
   "cell_type": "markdown",
   "metadata": {},
   "source": [
    "Plot the top 20 words"
   ]
  },
  {
   "cell_type": "code",
   "execution_count": 432,
   "metadata": {
    "collapsed": false
   },
   "outputs": [
    {
     "data": {
      "image/png": "[encoded data removed]",
      "text/plain": [
       "<matplotlib.figure.Figure at 0x163616290>"
      ]
     },
     "metadata": {},
     "output_type": "display_data"
    }
   ],
   "source": [
    "colors = [\"red\", \"blue\"]\n",
    "percents = [\"Sub 50%\", \"Sub 100%\"]\n",
    "fig, ax = plt.subplots(2, 1, figsize=(15, 22))\n",
    "\n",
    "for i in range(2):\n",
    "    #Number of bars to use\n",
    "    indices = np.arange(n)\n",
    "    #Where to put the label under each bar\n",
    "    width = 0.5\n",
    "\n",
    "    #Count the number of time each word occurs\n",
    "    word_freq = x[y == i+1].sum(axis=0)\n",
    "\n",
    "    # Sort the words by their total frequency in the dataset\n",
    "    words = zip(word_freq, feature_names)\n",
    "    top_words = (sorted(words, key=lambda t: t[0], reverse=True))[:n]\n",
    "\n",
    "    #B ar plot of the frequencies of the top words\n",
    "    ax[i].bar(indices, [word[0] for word in top_words], color=colors[i], alpha=0.5)\n",
    "\n",
    "    ax[i].set_ylabel('Frequency')\n",
    "    ax[i].set_title('Top ' + str(n) + ' Words in ' + percents[i] + ' Helpfulness Reviews')\n",
    "\n",
    "    # Label the bars with the top words\n",
    "    ax[i].set_xticks(indices + width)\n",
    "    ax[i].set_xticklabels([word[1] for word in top_words])\n",
    "\n",
    "    # Turn the labels sideways so they don't overlap\n",
    "    labels = ax[i].get_xticklabels()\n",
    "    plt.setp(labels, rotation=30, fontsize=10)\n",
    "\n",
    "plt.show()"
   ]
  },
  {
   "cell_type": "markdown",
   "metadata": {},
   "source": [
    "Split into a testing and a training set. 2/3 vs. 1/3 respectively. Then run a logistic model on that"
   ]
  },
  {
   "cell_type": "code",
   "execution_count": 433,
   "metadata": {
    "collapsed": false
   },
   "outputs": [
    {
     "name": "stdout",
     "output_type": "stream",
     "text": [
      "Reviews in Training Set: 5129\n",
      "Accuracy on overall test set: 0.825743319533\n",
      "Accuracy on Sub 50% set: 0.165271966527\n",
      "Accuracy on Sub 100% set: 0.970628728775\n"
     ]
    }
   ],
   "source": [
    "# Train/test split\n",
    "n_samples = len(x)\n",
    "train_indices = np.random.uniform(size=n_samples) > 1. / 3.  #Select two thirds for train\n",
    "\n",
    "x_train = x[train_indices]\n",
    "y_train = y[train_indices]\n",
    "print \"Reviews in Training Set: {0}\".format(x_train.shape[0])\n",
    "x_test = x[~train_indices]\n",
    "y_test = y[~train_indices]\n",
    "\n",
    "#Generate array of L2 regularization parameters\n",
    "regularization = 10.**np.arange(-10, 5)\n",
    "\n",
    "#Fit logistic model with cross validation to select the optimal regularization parameter\n",
    "logistic = LogRegCV(cv=5, penalty='l2', Cs=regularization, solver='liblinear', n_jobs=4)\n",
    "logistic.fit(x_train, y_train)\n",
    "\n",
    "#Print results\n",
    "print 'Accuracy on overall test set:', logistic.score(x_test, y_test)\n",
    "print 'Accuracy on Sub 50% set:', logistic.score(x_test[y_test == 1], y_test[y_test == 1])\n",
    "print 'Accuracy on Sub 100% set:', logistic.score(x_test[y_test == 2], y_test[y_test == 2])"
   ]
  },
  {
   "cell_type": "code",
   "execution_count": 434,
   "metadata": {
    "collapsed": true
   },
   "outputs": [],
   "source": [
    "# This function computes the accuracy of logistic regression given cut-offs, min_df, max_df"
   ]
  },
  {
   "cell_type": "code",
   "execution_count": 435,
   "metadata": {
    "collapsed": true
   },
   "outputs": [],
   "source": [
    "def vectorize_classify(min_df, max_df, trials, x, y):\n",
    "    #Create a text vectorizer, removing words with frequency less than min_df or\n",
    "    #greater than max_df\n",
    "    vectorizer = CountVectorizer(stop_words='english', min_df=min_df, max_df=max_df)\n",
    "    #Transform our text into arrays of numbers\n",
    "    corpus = rand_1400['Text'].values\n",
    "    x = vectorizer.fit_transform(corpus)\n",
    "    x = x.toarray()\n",
    "    \n",
    "    #Record overall accuracy rate, accuracy on class 1 and class 2\n",
    "    overall_acc = []\n",
    "    class_2_acc = []\n",
    "    class_1_acc = []\n",
    "    \n",
    "    \n",
    "    n_samples = len(x)\n",
    "    \n",
    "    #Perform logistic regression on a handful of train/test splits\n",
    "    for i in range(trials):\n",
    "        #Print progress\n",
    "        sys.stdout.write(\"\\r{0}% completed\".format((float(i + 1)/trials)*100))\n",
    "        sys.stdout.flush()\n",
    "        \n",
    "        # Train/test split\n",
    "        train_indices = np.random.uniform(size=n_samples) > 1. / 3.  #Select two thirds for train\n",
    "\n",
    "        x_train = x[train_indices]\n",
    "        y_train = y[train_indices]\n",
    "\n",
    "        x_test = x[~train_indices]\n",
    "        y_test = y[~train_indices]\n",
    "\n",
    "        #Generate array of L2 regularization parameters\n",
    "        regularization = 10. ** np.arange(-10, 5)\n",
    "\n",
    "        #Fit logistic model\n",
    "        logistic = LogRegCV(cv=5, \n",
    "                            penalty='l2', \n",
    "                            Cs=regularization, \n",
    "                            solver='liblinear', \n",
    "                            n_jobs=4)\n",
    "        logistic.fit(x_train, y_train)\n",
    "        \n",
    "        overall_acc.append(logistic.score(x_test, y_test))\n",
    "        class_1_acc.append(logistic.score(x_test[y_test == 1], y_test[y_test == 1]))\n",
    "        class_2_acc.append(logistic.score(x_test[y_test == 2], y_test[y_test == 2]))\n",
    "\n",
    "    return (np.mean(overall_acc), \n",
    "            np.mean(class_1_acc),\n",
    "            np.mean(class_2_acc))"
   ]
  },
  {
   "cell_type": "markdown",
   "metadata": {},
   "source": [
    "Test out the function"
   ]
  },
  {
   "cell_type": "code",
   "execution_count": 437,
   "metadata": {
    "collapsed": false
   },
   "outputs": [
    {
     "name": "stdout",
     "output_type": "stream",
     "text": [
      "100.0% completed\n",
      "Min frequency, max frequency: 1100 , 1250\n",
      "Accuracy on overall test set: 0.815489958233\n",
      "Accuracy on class 1 in test set: 0.0\n",
      "Accuracy on class 2 in test set: 1.0\n"
     ]
    }
   ],
   "source": [
    "# Preforms even worse, no reasonable cut off helps, because the helpful words are not centralized among one ocation\n",
    "min_df = 1100\n",
    "max_df = 1250\n",
    "trials = 5\n",
    "overall, class_1, class_2 = vectorize_classify(min_df, max_df, trials, x, y)\n",
    "print '\\nMin frequency, max frequency:', min_df, ',', max_df\n",
    "print 'Accuracy on overall test set:', overall\n",
    "print 'Accuracy on class 1 in test set:', class_1\n",
    "print 'Accuracy on class 2 in test set:', class_2\n"
   ]
  },
  {
   "cell_type": "code",
   "execution_count": 439,
   "metadata": {
    "collapsed": false
   },
   "outputs": [
    {
     "name": "stdout",
     "output_type": "stream",
     "text": [
      "100.0% completed\n",
      "Min frequency, max frequency: 1 , 100\n",
      "Accuracy on overall test set: 0.82397806409\n",
      "Accuracy on class 1 in test set: 0.0102955241643\n",
      "Accuracy on class 2 in test set: 0.998336937372\n"
     ]
    }
   ],
   "source": [
    "# Preforms even worse, no reasonable cut off helps, because the helpful words are not centralized among one ocation\n",
    "min_df = 1\n",
    "max_df = 100\n",
    "trials = 5\n",
    "overall, class_1, class_2 = vectorize_classify(min_df, max_df, trials, x, y)\n",
    "print '\\nMin frequency, max frequency:', min_df, ',', max_df\n",
    "print 'Accuracy on overall test set:', overall\n",
    "print 'Accuracy on class 1 in test set:', class_1\n",
    "print 'Accuracy on class 2 in test set:', class_2"
   ]
  },
  {
   "cell_type": "code",
   "execution_count": 440,
   "metadata": {
    "collapsed": false
   },
   "outputs": [
    {
     "ename": "KeyboardInterrupt",
     "evalue": "",
     "output_type": "error",
     "traceback": [
      "\u001b[0;31m---------------------------------------------------------------------------\u001b[0m",
      "\u001b[0;31mKeyboardInterrupt\u001b[0m                         Traceback (most recent call last)",
      "\u001b[0;32m<ipython-input-440-53412f525896>\u001b[0m in \u001b[0;36m<module>\u001b[0;34m()\u001b[0m\n\u001b[1;32m      1\u001b[0m \u001b[0mpca\u001b[0m \u001b[0;34m=\u001b[0m \u001b[0mPCA\u001b[0m\u001b[0;34m(\u001b[0m\u001b[0mn_components\u001b[0m\u001b[0;34m=\u001b[0m\u001b[0;36m800\u001b[0m\u001b[0;34m)\u001b[0m\u001b[0;34m\u001b[0m\u001b[0m\n\u001b[0;32m----> 2\u001b[0;31m \u001b[0mpca\u001b[0m\u001b[0;34m.\u001b[0m\u001b[0mfit\u001b[0m\u001b[0;34m(\u001b[0m\u001b[0mx_train\u001b[0m\u001b[0;34m)\u001b[0m\u001b[0;34m\u001b[0m\u001b[0m\n\u001b[0m\u001b[1;32m      3\u001b[0m \u001b[0mx_reduced\u001b[0m \u001b[0;34m=\u001b[0m \u001b[0mpca\u001b[0m\u001b[0;34m.\u001b[0m\u001b[0mtransform\u001b[0m\u001b[0;34m(\u001b[0m\u001b[0mx\u001b[0m\u001b[0;34m)\u001b[0m\u001b[0;34m\u001b[0m\u001b[0m\n\u001b[1;32m      4\u001b[0m \u001b[0mx_train_red\u001b[0m \u001b[0;34m=\u001b[0m \u001b[0mpca\u001b[0m\u001b[0;34m.\u001b[0m\u001b[0mtransform\u001b[0m\u001b[0;34m(\u001b[0m\u001b[0mx_train\u001b[0m\u001b[0;34m)\u001b[0m\u001b[0;34m\u001b[0m\u001b[0m\n\u001b[1;32m      5\u001b[0m \u001b[0mx_test_red\u001b[0m \u001b[0;34m=\u001b[0m \u001b[0mpca\u001b[0m\u001b[0;34m.\u001b[0m\u001b[0mtransform\u001b[0m\u001b[0;34m(\u001b[0m\u001b[0mx_test\u001b[0m\u001b[0;34m)\u001b[0m\u001b[0;34m\u001b[0m\u001b[0m\n",
      "\u001b[0;32m/Users/JSoyinka/anaconda2/lib/python2.7/site-packages/sklearn/decomposition/pca.pyc\u001b[0m in \u001b[0;36mfit\u001b[0;34m(self, X, y)\u001b[0m\n\u001b[1;32m    222\u001b[0m             \u001b[0mReturns\u001b[0m \u001b[0mthe\u001b[0m \u001b[0minstance\u001b[0m \u001b[0mitself\u001b[0m\u001b[0;34m.\u001b[0m\u001b[0;34m\u001b[0m\u001b[0m\n\u001b[1;32m    223\u001b[0m         \"\"\"\n\u001b[0;32m--> 224\u001b[0;31m         \u001b[0mself\u001b[0m\u001b[0;34m.\u001b[0m\u001b[0m_fit\u001b[0m\u001b[0;34m(\u001b[0m\u001b[0mX\u001b[0m\u001b[0;34m)\u001b[0m\u001b[0;34m\u001b[0m\u001b[0m\n\u001b[0m\u001b[1;32m    225\u001b[0m         \u001b[0;32mreturn\u001b[0m \u001b[0mself\u001b[0m\u001b[0;34m\u001b[0m\u001b[0m\n\u001b[1;32m    226\u001b[0m \u001b[0;34m\u001b[0m\u001b[0m\n",
      "\u001b[0;32m/Users/JSoyinka/anaconda2/lib/python2.7/site-packages/sklearn/decomposition/pca.pyc\u001b[0m in \u001b[0;36m_fit\u001b[0;34m(self, X)\u001b[0m\n\u001b[1;32m    272\u001b[0m         \u001b[0mself\u001b[0m\u001b[0;34m.\u001b[0m\u001b[0mmean_\u001b[0m \u001b[0;34m=\u001b[0m \u001b[0mnp\u001b[0m\u001b[0;34m.\u001b[0m\u001b[0mmean\u001b[0m\u001b[0;34m(\u001b[0m\u001b[0mX\u001b[0m\u001b[0;34m,\u001b[0m \u001b[0maxis\u001b[0m\u001b[0;34m=\u001b[0m\u001b[0;36m0\u001b[0m\u001b[0;34m)\u001b[0m\u001b[0;34m\u001b[0m\u001b[0m\n\u001b[1;32m    273\u001b[0m         \u001b[0mX\u001b[0m \u001b[0;34m-=\u001b[0m \u001b[0mself\u001b[0m\u001b[0;34m.\u001b[0m\u001b[0mmean_\u001b[0m\u001b[0;34m\u001b[0m\u001b[0m\n\u001b[0;32m--> 274\u001b[0;31m         \u001b[0mU\u001b[0m\u001b[0;34m,\u001b[0m \u001b[0mS\u001b[0m\u001b[0;34m,\u001b[0m \u001b[0mV\u001b[0m \u001b[0;34m=\u001b[0m \u001b[0mlinalg\u001b[0m\u001b[0;34m.\u001b[0m\u001b[0msvd\u001b[0m\u001b[0;34m(\u001b[0m\u001b[0mX\u001b[0m\u001b[0;34m,\u001b[0m \u001b[0mfull_matrices\u001b[0m\u001b[0;34m=\u001b[0m\u001b[0mFalse\u001b[0m\u001b[0;34m)\u001b[0m\u001b[0;34m\u001b[0m\u001b[0m\n\u001b[0m\u001b[1;32m    275\u001b[0m         \u001b[0mexplained_variance_\u001b[0m \u001b[0;34m=\u001b[0m \u001b[0;34m(\u001b[0m\u001b[0mS\u001b[0m \u001b[0;34m**\u001b[0m \u001b[0;36m2\u001b[0m\u001b[0;34m)\u001b[0m \u001b[0;34m/\u001b[0m \u001b[0mn_samples\u001b[0m\u001b[0;34m\u001b[0m\u001b[0m\n\u001b[1;32m    276\u001b[0m         explained_variance_ratio_ = (explained_variance_ /\n",
      "\u001b[0;32m/Users/JSoyinka/anaconda2/lib/python2.7/site-packages/scipy/linalg/decomp_svd.pyc\u001b[0m in \u001b[0;36msvd\u001b[0;34m(a, full_matrices, compute_uv, overwrite_a, check_finite)\u001b[0m\n\u001b[1;32m    100\u001b[0m     \u001b[0;31m# perform decomposition\u001b[0m\u001b[0;34m\u001b[0m\u001b[0;34m\u001b[0m\u001b[0m\n\u001b[1;32m    101\u001b[0m     u,s,v,info = gesdd(a1, compute_uv=compute_uv, lwork=lwork,\n\u001b[0;32m--> 102\u001b[0;31m                        full_matrices=full_matrices, overwrite_a=overwrite_a)\n\u001b[0m\u001b[1;32m    103\u001b[0m \u001b[0;34m\u001b[0m\u001b[0m\n\u001b[1;32m    104\u001b[0m     \u001b[0;32mif\u001b[0m \u001b[0minfo\u001b[0m \u001b[0;34m>\u001b[0m \u001b[0;36m0\u001b[0m\u001b[0;34m:\u001b[0m\u001b[0;34m\u001b[0m\u001b[0m\n",
      "\u001b[0;31mKeyboardInterrupt\u001b[0m: "
     ]
    }
   ],
   "source": [
    "pca = PCA(n_components=800)\n",
    "pca.fit(x_train)\n",
    "x_reduced = pca.transform(x)\n",
    "x_train_red = pca.transform(x_train)\n",
    "x_test_red = pca.transform(x_test)\n",
    "\n",
    "logistic.fit(x_train_red, y_train)\n",
    "\n",
    "y_pred = logistic.predict(x_test_red)\n",
    "pred_1 = logistic.predict(x_1)\n",
    "pred_2 = logistic.predict(x_2)\n",
    "\n",
    "print 'Accuracy for reviews:', np.mean(y_test == y_pred)\n",
    "print 'Accuracy for sub 50% Helpfulness:', np.mean(y_1 == pred_1)\n",
    "print 'Accuracy for sub 100% Helpfulness:', np.mean(y_2 == pred_2)"
   ]
  },
  {
   "cell_type": "code",
   "execution_count": 441,
   "metadata": {
    "collapsed": false
   },
   "outputs": [
    {
     "name": "stdout",
     "output_type": "stream",
     "text": [
      "Accuracy for all reviews: 0.81993321346\n",
      "Accuracy for sub 50% Helpfulness: 0.0\n",
      "Accuracy for sub 100% Helpfulness: 1.0\n"
     ]
    }
   ],
   "source": [
    "pca = PCA(n_components=50)\n",
    "pca.fit(x_train)\n",
    "x_reduced = pca.transform(x)\n",
    "x_train_red = pca.transform(x_train)\n",
    "x_test_red = pca.transform(x_test)\n",
    "\n",
    "x_1 = x_test_red[y_test==1, :]\n",
    "x_2 = x_test_red[y_test==2, :]\n",
    "y_1 = y_test[y_test==1]\n",
    "y_2 = y_test[y_test==2]\n",
    "\n",
    "\n",
    "logistic.fit(x_train_red, y_train)\n",
    "\n",
    "y_pred = logistic.predict(x_reduced)\n",
    "pred_1 = logistic.predict(x_1)\n",
    "pred_2 = logistic.predict(x_2)\n",
    "\n",
    "print 'Accuracy for all reviews:', np.mean(y == y_pred)\n",
    "print 'Accuracy for sub 50% Helpfulness:', np.mean(y_1 == pred_1)\n",
    "print 'Accuracy for sub 100% Helpfulness:', np.mean(y_2 == pred_2)"
   ]
  },
  {
   "cell_type": "code",
   "execution_count": 442,
   "metadata": {
    "collapsed": false
   },
   "outputs": [
    {
     "ename": "KeyboardInterrupt",
     "evalue": "",
     "output_type": "error",
     "traceback": [
      "\u001b[0;31m---------------------------------------------------------------------------\u001b[0m",
      "\u001b[0;31mKeyboardInterrupt\u001b[0m                         Traceback (most recent call last)",
      "\u001b[0;32m<ipython-input-442-507fa2b8c49d>\u001b[0m in \u001b[0;36m<module>\u001b[0;34m()\u001b[0m\n\u001b[1;32m      1\u001b[0m \u001b[0mpca\u001b[0m \u001b[0;34m=\u001b[0m \u001b[0mPCA\u001b[0m\u001b[0;34m(\u001b[0m\u001b[0mn_components\u001b[0m\u001b[0;34m=\u001b[0m\u001b[0;36m2\u001b[0m\u001b[0;34m)\u001b[0m\u001b[0;34m\u001b[0m\u001b[0m\n\u001b[0;32m----> 2\u001b[0;31m \u001b[0mpca\u001b[0m\u001b[0;34m.\u001b[0m\u001b[0mfit\u001b[0m\u001b[0;34m(\u001b[0m\u001b[0mx_train\u001b[0m\u001b[0;34m)\u001b[0m\u001b[0;34m\u001b[0m\u001b[0m\n\u001b[0m\u001b[1;32m      3\u001b[0m \u001b[0mx_reduced\u001b[0m \u001b[0;34m=\u001b[0m \u001b[0mpca\u001b[0m\u001b[0;34m.\u001b[0m\u001b[0mtransform\u001b[0m\u001b[0;34m(\u001b[0m\u001b[0mx\u001b[0m\u001b[0;34m)\u001b[0m\u001b[0;34m\u001b[0m\u001b[0m\n\u001b[1;32m      4\u001b[0m \u001b[0mx_train_red\u001b[0m \u001b[0;34m=\u001b[0m \u001b[0mpca\u001b[0m\u001b[0;34m.\u001b[0m\u001b[0mtransform\u001b[0m\u001b[0;34m(\u001b[0m\u001b[0mx_train\u001b[0m\u001b[0;34m)\u001b[0m\u001b[0;34m\u001b[0m\u001b[0m\n\u001b[1;32m      5\u001b[0m \u001b[0mx_test_red\u001b[0m \u001b[0;34m=\u001b[0m \u001b[0mpca\u001b[0m\u001b[0;34m.\u001b[0m\u001b[0mtransform\u001b[0m\u001b[0;34m(\u001b[0m\u001b[0mx_test\u001b[0m\u001b[0;34m)\u001b[0m\u001b[0;34m\u001b[0m\u001b[0m\n",
      "\u001b[0;32m/Users/JSoyinka/anaconda2/lib/python2.7/site-packages/sklearn/decomposition/pca.pyc\u001b[0m in \u001b[0;36mfit\u001b[0;34m(self, X, y)\u001b[0m\n\u001b[1;32m    222\u001b[0m             \u001b[0mReturns\u001b[0m \u001b[0mthe\u001b[0m \u001b[0minstance\u001b[0m \u001b[0mitself\u001b[0m\u001b[0;34m.\u001b[0m\u001b[0;34m\u001b[0m\u001b[0m\n\u001b[1;32m    223\u001b[0m         \"\"\"\n\u001b[0;32m--> 224\u001b[0;31m         \u001b[0mself\u001b[0m\u001b[0;34m.\u001b[0m\u001b[0m_fit\u001b[0m\u001b[0;34m(\u001b[0m\u001b[0mX\u001b[0m\u001b[0;34m)\u001b[0m\u001b[0;34m\u001b[0m\u001b[0m\n\u001b[0m\u001b[1;32m    225\u001b[0m         \u001b[0;32mreturn\u001b[0m \u001b[0mself\u001b[0m\u001b[0;34m\u001b[0m\u001b[0m\n\u001b[1;32m    226\u001b[0m \u001b[0;34m\u001b[0m\u001b[0m\n",
      "\u001b[0;32m/Users/JSoyinka/anaconda2/lib/python2.7/site-packages/sklearn/decomposition/pca.pyc\u001b[0m in \u001b[0;36m_fit\u001b[0;34m(self, X)\u001b[0m\n\u001b[1;32m    272\u001b[0m         \u001b[0mself\u001b[0m\u001b[0;34m.\u001b[0m\u001b[0mmean_\u001b[0m \u001b[0;34m=\u001b[0m \u001b[0mnp\u001b[0m\u001b[0;34m.\u001b[0m\u001b[0mmean\u001b[0m\u001b[0;34m(\u001b[0m\u001b[0mX\u001b[0m\u001b[0;34m,\u001b[0m \u001b[0maxis\u001b[0m\u001b[0;34m=\u001b[0m\u001b[0;36m0\u001b[0m\u001b[0;34m)\u001b[0m\u001b[0;34m\u001b[0m\u001b[0m\n\u001b[1;32m    273\u001b[0m         \u001b[0mX\u001b[0m \u001b[0;34m-=\u001b[0m \u001b[0mself\u001b[0m\u001b[0;34m.\u001b[0m\u001b[0mmean_\u001b[0m\u001b[0;34m\u001b[0m\u001b[0m\n\u001b[0;32m--> 274\u001b[0;31m         \u001b[0mU\u001b[0m\u001b[0;34m,\u001b[0m \u001b[0mS\u001b[0m\u001b[0;34m,\u001b[0m \u001b[0mV\u001b[0m \u001b[0;34m=\u001b[0m \u001b[0mlinalg\u001b[0m\u001b[0;34m.\u001b[0m\u001b[0msvd\u001b[0m\u001b[0;34m(\u001b[0m\u001b[0mX\u001b[0m\u001b[0;34m,\u001b[0m \u001b[0mfull_matrices\u001b[0m\u001b[0;34m=\u001b[0m\u001b[0mFalse\u001b[0m\u001b[0;34m)\u001b[0m\u001b[0;34m\u001b[0m\u001b[0m\n\u001b[0m\u001b[1;32m    275\u001b[0m         \u001b[0mexplained_variance_\u001b[0m \u001b[0;34m=\u001b[0m \u001b[0;34m(\u001b[0m\u001b[0mS\u001b[0m \u001b[0;34m**\u001b[0m \u001b[0;36m2\u001b[0m\u001b[0;34m)\u001b[0m \u001b[0;34m/\u001b[0m \u001b[0mn_samples\u001b[0m\u001b[0;34m\u001b[0m\u001b[0m\n\u001b[1;32m    276\u001b[0m         explained_variance_ratio_ = (explained_variance_ /\n",
      "\u001b[0;32m/Users/JSoyinka/anaconda2/lib/python2.7/site-packages/scipy/linalg/decomp_svd.pyc\u001b[0m in \u001b[0;36msvd\u001b[0;34m(a, full_matrices, compute_uv, overwrite_a, check_finite)\u001b[0m\n\u001b[1;32m    100\u001b[0m     \u001b[0;31m# perform decomposition\u001b[0m\u001b[0;34m\u001b[0m\u001b[0;34m\u001b[0m\u001b[0m\n\u001b[1;32m    101\u001b[0m     u,s,v,info = gesdd(a1, compute_uv=compute_uv, lwork=lwork,\n\u001b[0;32m--> 102\u001b[0;31m                        full_matrices=full_matrices, overwrite_a=overwrite_a)\n\u001b[0m\u001b[1;32m    103\u001b[0m \u001b[0;34m\u001b[0m\u001b[0m\n\u001b[1;32m    104\u001b[0m     \u001b[0;32mif\u001b[0m \u001b[0minfo\u001b[0m \u001b[0;34m>\u001b[0m \u001b[0;36m0\u001b[0m\u001b[0;34m:\u001b[0m\u001b[0;34m\u001b[0m\u001b[0m\n",
      "\u001b[0;31mKeyboardInterrupt\u001b[0m: "
     ]
    }
   ],
   "source": [
    "pca = PCA(n_components=2)\n",
    "pca.fit(x_train)\n",
    "x_reduced = pca.transform(x)\n",
    "x_train_red = pca.transform(x_train)\n",
    "x_test_red = pca.transform(x_test)\n",
    "\n",
    "x_1 = x_test_red[y_test==1, :]\n",
    "x_2 = x_test_red[y_test==2, :]\n",
    "y_1 = y_test[y_test==1]\n",
    "y_2 = y_test[y_test==2]\n",
    "\n",
    "\n",
    "logistic.fit(x_train_red, y_train)\n",
    "\n",
    "y_pred = logistic.predict(x_reduced)\n",
    "pred_1 = logistic.predict(x_1)\n",
    "pred_2 = logistic.predict(x_2)\n",
    "\n",
    "print 'Accuracy for all reviews:', np.mean(y == y_pred)\n",
    "print 'Accuracy for sub 50% Helpfulness:', np.mean(y_1 == pred_1)\n",
    "print 'Accuracy for sub 100% Helpfulness:', np.mean(y_2 == pred_2)"
   ]
  },
  {
   "cell_type": "code",
   "execution_count": 443,
   "metadata": {
    "collapsed": false
   },
   "outputs": [
    {
     "name": "stdout",
     "output_type": "stream",
     "text": [
      "C= 0.0001 : 0.820098217186\n",
      "C= 0.001 : 0.820098217186\n",
      "C= 0.01 : 0.820098217186\n",
      "C= 0.1 : 0.821605657786\n",
      "C= 1 : 0.811816211144\n",
      "C= 10 : 0.800527816525\n",
      "C= 100 : 0.79488149606\n"
     ]
    },
    {
     "data": {
      "image/png": "[encoded data removed]",
      "text/plain": [
       "<matplotlib.figure.Figure at 0x14977f690>"
      ]
     },
     "metadata": {},
     "output_type": "display_data"
    }
   ],
   "source": [
    "cvals = [0.0001, 0.001, 0.01, 0.1, 1, 10, 100]\n",
    "scores = []\n",
    "for c in cvals: #try cross validating the data with different regularization parameters\n",
    "    log_model = LogReg(C=c, penalty='l2') #initiate unregularized logistic regression model\n",
    "    score = cross_val_score(log_model, x_test, y_test, n_jobs=-1).mean() #cross validate\n",
    "    scores.append(score)\n",
    "    print \"C=\",c ,\":\", score\n",
    "    \n",
    "plt.plot(cvals, scores)\n",
    "plt.xscale('log')\n",
    "plt.title(\"Accuracy by Regularization Parameter value\")\n",
    "plt.xlabel(\"Parameter value\")\n",
    "plt.ylabel(\"Accuracy\")\n",
    "plt.grid()\n",
    "plt.show()"
   ]
  },
  {
   "cell_type": "code",
   "execution_count": 445,
   "metadata": {
    "collapsed": false
   },
   "outputs": [
    {
     "name": "stdout",
     "output_type": "stream",
     "text": [
      "(2657,)\n",
      "(2657,)\n",
      "\n",
      "\n",
      "WITH CLASS BALANCE CORRECTION\n",
      "[[  79  399]\n",
      " [  64 2115]]\n",
      "\n",
      "False Positive Rate: 0.834728033473\n",
      "False Negative Rate: 0.0293712712253\n",
      "True Positive Rate: 0.841288782816\n",
      "True Negative Rate: 0.552447552448\n",
      "\n",
      "Accuracy on 2 Class Helpfulness: 0.970628728775\n",
      "Accuracy on 1 Class Helpfulness: 0.165271966527\n"
     ]
    }
   ],
   "source": [
    "log_model = LogReg(C=.1, penalty='l2')\n",
    "log_model.fit(x_train, y_train)\n",
    "y_predict = log_model.predict(x_test)\n",
    "\n",
    "tn, fp, fn, tp = confusion_matrix(y_test, y_predict).ravel() #from sklearn docs\n",
    "print y_predict.shape\n",
    "print y_test.shape\n",
    "print \"\\n\\nWITH CLASS BALANCE CORRECTION\"\n",
    "print confusion_matrix(y_test, y_predict)\n",
    "print\n",
    "print \"False Positive Rate:\", fp/float(fp+tn)\n",
    "print \"False Negative Rate:\", fn/float(fn+tp)\n",
    "print \"True Positive Rate:\", tp/float(tp+fp)\n",
    "print \"True Negative Rate:\", tn/float(tn+fn)\n",
    "print\n",
    "print \"Accuracy on 2 Class Helpfulness:\", np.mean(y_predict[y_test == 2] == y_test[y_test == 2])\n",
    "print \"Accuracy on 1 Class Helpfulness:\", np.mean(y_predict[y_test == 1] == y_test[y_test == 1])"
   ]
  },
  {
   "cell_type": "code",
   "execution_count": 446,
   "metadata": {
    "collapsed": false
   },
   "outputs": [
    {
     "ename": "KeyboardInterrupt",
     "evalue": "",
     "output_type": "error",
     "traceback": [
      "\u001b[0;31m---------------------------------------------------------------------------\u001b[0m",
      "\u001b[0;31mKeyboardInterrupt\u001b[0m                         Traceback (most recent call last)",
      "\u001b[0;32m<ipython-input-446-9335f158679e>\u001b[0m in \u001b[0;36m<module>\u001b[0;34m()\u001b[0m\n\u001b[1;32m      1\u001b[0m \u001b[0mmodel\u001b[0m \u001b[0;34m=\u001b[0m \u001b[0msvm\u001b[0m\u001b[0;34m.\u001b[0m\u001b[0mSVC\u001b[0m\u001b[0;34m(\u001b[0m\u001b[0mkernel\u001b[0m\u001b[0;34m=\u001b[0m\u001b[0;34m'poly'\u001b[0m\u001b[0;34m,\u001b[0m \u001b[0mgamma\u001b[0m\u001b[0;34m=\u001b[0m\u001b[0;36m2\u001b[0m\u001b[0;34m,\u001b[0m \u001b[0mC\u001b[0m\u001b[0;34m=\u001b[0m\u001b[0;36m100\u001b[0m\u001b[0;34m)\u001b[0m\u001b[0;34m\u001b[0m\u001b[0m\n\u001b[1;32m      2\u001b[0m \u001b[0mmodel\u001b[0m\u001b[0;34m.\u001b[0m\u001b[0mfit\u001b[0m\u001b[0;34m(\u001b[0m\u001b[0mx_train\u001b[0m\u001b[0;34m,\u001b[0m \u001b[0mlist\u001b[0m\u001b[0;34m(\u001b[0m\u001b[0my_train\u001b[0m\u001b[0;34m)\u001b[0m\u001b[0;34m)\u001b[0m\u001b[0;34m\u001b[0m\u001b[0m\n\u001b[0;32m----> 3\u001b[0;31m \u001b[0my_pred_svc\u001b[0m \u001b[0;34m=\u001b[0m \u001b[0mmodel\u001b[0m\u001b[0;34m.\u001b[0m\u001b[0mpredict\u001b[0m\u001b[0;34m(\u001b[0m\u001b[0mx_test\u001b[0m\u001b[0;34m)\u001b[0m\u001b[0;34m\u001b[0m\u001b[0m\n\u001b[0m\u001b[1;32m      4\u001b[0m \u001b[0mmodel\u001b[0m\u001b[0;34m.\u001b[0m\u001b[0mscore\u001b[0m\u001b[0;34m(\u001b[0m\u001b[0mx_test\u001b[0m\u001b[0;34m,\u001b[0m \u001b[0mlist\u001b[0m\u001b[0;34m(\u001b[0m\u001b[0my_test\u001b[0m\u001b[0;34m)\u001b[0m\u001b[0;34m)\u001b[0m\u001b[0;34m\u001b[0m\u001b[0m\n",
      "\u001b[0;32m/Users/JSoyinka/anaconda2/lib/python2.7/site-packages/sklearn/svm/base.pyc\u001b[0m in \u001b[0;36mpredict\u001b[0;34m(self, X)\u001b[0m\n\u001b[1;32m    566\u001b[0m             \u001b[0mClass\u001b[0m \u001b[0mlabels\u001b[0m \u001b[0;32mfor\u001b[0m \u001b[0msamples\u001b[0m \u001b[0;32min\u001b[0m \u001b[0mX\u001b[0m\u001b[0;34m.\u001b[0m\u001b[0;34m\u001b[0m\u001b[0m\n\u001b[1;32m    567\u001b[0m         \"\"\"\n\u001b[0;32m--> 568\u001b[0;31m         \u001b[0my\u001b[0m \u001b[0;34m=\u001b[0m \u001b[0msuper\u001b[0m\u001b[0;34m(\u001b[0m\u001b[0mBaseSVC\u001b[0m\u001b[0;34m,\u001b[0m \u001b[0mself\u001b[0m\u001b[0;34m)\u001b[0m\u001b[0;34m.\u001b[0m\u001b[0mpredict\u001b[0m\u001b[0;34m(\u001b[0m\u001b[0mX\u001b[0m\u001b[0;34m)\u001b[0m\u001b[0;34m\u001b[0m\u001b[0m\n\u001b[0m\u001b[1;32m    569\u001b[0m         \u001b[0;32mreturn\u001b[0m \u001b[0mself\u001b[0m\u001b[0;34m.\u001b[0m\u001b[0mclasses_\u001b[0m\u001b[0;34m.\u001b[0m\u001b[0mtake\u001b[0m\u001b[0;34m(\u001b[0m\u001b[0mnp\u001b[0m\u001b[0;34m.\u001b[0m\u001b[0masarray\u001b[0m\u001b[0;34m(\u001b[0m\u001b[0my\u001b[0m\u001b[0;34m,\u001b[0m \u001b[0mdtype\u001b[0m\u001b[0;34m=\u001b[0m\u001b[0mnp\u001b[0m\u001b[0;34m.\u001b[0m\u001b[0mintp\u001b[0m\u001b[0;34m)\u001b[0m\u001b[0;34m)\u001b[0m\u001b[0;34m\u001b[0m\u001b[0m\n\u001b[1;32m    570\u001b[0m \u001b[0;34m\u001b[0m\u001b[0m\n",
      "\u001b[0;32m/Users/JSoyinka/anaconda2/lib/python2.7/site-packages/sklearn/svm/base.pyc\u001b[0m in \u001b[0;36mpredict\u001b[0;34m(self, X)\u001b[0m\n\u001b[1;32m    305\u001b[0m         \u001b[0mX\u001b[0m \u001b[0;34m=\u001b[0m \u001b[0mself\u001b[0m\u001b[0;34m.\u001b[0m\u001b[0m_validate_for_predict\u001b[0m\u001b[0;34m(\u001b[0m\u001b[0mX\u001b[0m\u001b[0;34m)\u001b[0m\u001b[0;34m\u001b[0m\u001b[0m\n\u001b[1;32m    306\u001b[0m         \u001b[0mpredict\u001b[0m \u001b[0;34m=\u001b[0m \u001b[0mself\u001b[0m\u001b[0;34m.\u001b[0m\u001b[0m_sparse_predict\u001b[0m \u001b[0;32mif\u001b[0m \u001b[0mself\u001b[0m\u001b[0;34m.\u001b[0m\u001b[0m_sparse\u001b[0m \u001b[0;32melse\u001b[0m \u001b[0mself\u001b[0m\u001b[0;34m.\u001b[0m\u001b[0m_dense_predict\u001b[0m\u001b[0;34m\u001b[0m\u001b[0m\n\u001b[0;32m--> 307\u001b[0;31m         \u001b[0;32mreturn\u001b[0m \u001b[0mpredict\u001b[0m\u001b[0;34m(\u001b[0m\u001b[0mX\u001b[0m\u001b[0;34m)\u001b[0m\u001b[0;34m\u001b[0m\u001b[0m\n\u001b[0m\u001b[1;32m    308\u001b[0m \u001b[0;34m\u001b[0m\u001b[0m\n\u001b[1;32m    309\u001b[0m     \u001b[0;32mdef\u001b[0m \u001b[0m_dense_predict\u001b[0m\u001b[0;34m(\u001b[0m\u001b[0mself\u001b[0m\u001b[0;34m,\u001b[0m \u001b[0mX\u001b[0m\u001b[0;34m)\u001b[0m\u001b[0;34m:\u001b[0m\u001b[0;34m\u001b[0m\u001b[0m\n",
      "\u001b[0;32m/Users/JSoyinka/anaconda2/lib/python2.7/site-packages/sklearn/svm/base.pyc\u001b[0m in \u001b[0;36m_dense_predict\u001b[0;34m(self, X)\u001b[0m\n\u001b[1;32m    328\u001b[0m             \u001b[0mself\u001b[0m\u001b[0;34m.\u001b[0m\u001b[0mprobA_\u001b[0m\u001b[0;34m,\u001b[0m \u001b[0mself\u001b[0m\u001b[0;34m.\u001b[0m\u001b[0mprobB_\u001b[0m\u001b[0;34m,\u001b[0m \u001b[0msvm_type\u001b[0m\u001b[0;34m=\u001b[0m\u001b[0msvm_type\u001b[0m\u001b[0;34m,\u001b[0m \u001b[0mkernel\u001b[0m\u001b[0;34m=\u001b[0m\u001b[0mkernel\u001b[0m\u001b[0;34m,\u001b[0m\u001b[0;34m\u001b[0m\u001b[0m\n\u001b[1;32m    329\u001b[0m             \u001b[0mdegree\u001b[0m\u001b[0;34m=\u001b[0m\u001b[0mself\u001b[0m\u001b[0;34m.\u001b[0m\u001b[0mdegree\u001b[0m\u001b[0;34m,\u001b[0m \u001b[0mcoef0\u001b[0m\u001b[0;34m=\u001b[0m\u001b[0mself\u001b[0m\u001b[0;34m.\u001b[0m\u001b[0mcoef0\u001b[0m\u001b[0;34m,\u001b[0m \u001b[0mgamma\u001b[0m\u001b[0;34m=\u001b[0m\u001b[0mself\u001b[0m\u001b[0;34m.\u001b[0m\u001b[0m_gamma\u001b[0m\u001b[0;34m,\u001b[0m\u001b[0;34m\u001b[0m\u001b[0m\n\u001b[0;32m--> 330\u001b[0;31m             cache_size=self.cache_size)\n\u001b[0m\u001b[1;32m    331\u001b[0m \u001b[0;34m\u001b[0m\u001b[0m\n\u001b[1;32m    332\u001b[0m     \u001b[0;32mdef\u001b[0m \u001b[0m_sparse_predict\u001b[0m\u001b[0;34m(\u001b[0m\u001b[0mself\u001b[0m\u001b[0;34m,\u001b[0m \u001b[0mX\u001b[0m\u001b[0;34m)\u001b[0m\u001b[0;34m:\u001b[0m\u001b[0;34m\u001b[0m\u001b[0m\n",
      "\u001b[0;31mKeyboardInterrupt\u001b[0m: "
     ]
    }
   ],
   "source": [
    "model = svm.SVC(kernel='poly', gamma=2, C=100)\n",
    "model.fit(x_train, list(y_train))\n",
    "y_pred_svc = model.predict(x_test)\n",
    "model.score(x_test, list(y_test))"
   ]
  },
  {
   "cell_type": "code",
   "execution_count": 448,
   "metadata": {
    "collapsed": false
   },
   "outputs": [
    {
     "data": {
      "text/plain": [
       "0.72224313135114793"
      ]
     },
     "execution_count": 448,
     "metadata": {},
     "output_type": "execute_result"
    }
   ],
   "source": [
    "svm = svm.LinearSVC(C=0.001, penalty='l2', class_weight='balanced') #initialize logistic regression model\n",
    "svm.fit(x_train, list(y_train))\n",
    "y_pred_svm = svm.predict(x_test)\n",
    "svm.score(x_test, list(y_test))"
   ]
  },
  {
   "cell_type": "code",
   "execution_count": 449,
   "metadata": {
    "collapsed": false
   },
   "outputs": [
    {
     "name": "stdout",
     "output_type": "stream",
     "text": [
      "(2657,)\n",
      "(2657,)\n",
      "\n",
      "\n",
      "WITH CLASS BALANCE CORRECTION\n",
      "[[ 374  104]\n",
      " [ 634 1545]]\n",
      "\n",
      "False Positive Rate: 0.217573221757\n",
      "False Negative Rate: 0.290959155576\n",
      "True Positive Rate: 0.93693147362\n",
      "True Negative Rate: 0.371031746032\n",
      "\n",
      "Accuracy on 2 Class Helpfulness: 0.709040844424\n",
      "Accuracy on 1 Class Helpfulness: 0.782426778243\n"
     ]
    }
   ],
   "source": [
    "tn, fp, fn, tp = confusion_matrix(y_test, y_pred_svm).ravel() #from sklearn docs\n",
    "print y_pred_svm.shape\n",
    "print y_test.shape\n",
    "print \"\\n\\nWITH CLASS BALANCE CORRECTION\"\n",
    "print confusion_matrix(y_test, y_pred_svm)\n",
    "print\n",
    "print \"False Positive Rate:\", fp/float(fp+tn)\n",
    "print \"False Negative Rate:\", fn/float(fn+tp)\n",
    "print \"True Positive Rate:\", tp/float(tp+fp)\n",
    "print \"True Negative Rate:\", tn/float(tn+fn)\n",
    "print\n",
    "print \"Accuracy on 2 Class Helpfulness:\", np.mean(y_pred_svm[y_test == 2] == y_test[y_test == 2])\n",
    "print \"Accuracy on 1 Class Helpfulness:\", np.mean(y_pred_svm[y_test == 1] == y_test[y_test == 1])"
   ]
  },
  {
   "cell_type": "code",
   "execution_count": null,
   "metadata": {
    "collapsed": false
   },
   "outputs": [],
   "source": [
    "# print '5-fold cross validation:'\n",
    "# best_score = 0\n",
    "# k_folds = KFold(x_train_red.shape[0], n_folds=5, shuffle=True)\n",
    "# scores = []\n",
    "# trainers = [None, None]\n",
    "# for train_indices, validation_indices in k_folds:\n",
    "#     # Generate training data\n",
    "#     x_train_cv = x_train_red[train_indices]\n",
    "#     y_train_cv = y_train[train_indices]\n",
    "#     # Generate validation data\n",
    "#     x_validate = x_train_red[validation_indices]\n",
    "#     y_validate = y_train[validation_indices]\n",
    "\n",
    "#     # Fit random forest on training data\n",
    "#     model = svm.SVC(kernel='poly', gamma=2, C=100)\n",
    "#     model.fit(x_train_cv, list(y_train_cv))\n",
    "#     if model.score(x_validate, list(y_validate)) > best_score:\n",
    "#         trainers[0] = x_train_cv\n",
    "#         trainers[1] = y_train_cv\n",
    "#     scores += [model.score(x_validate, list(y_validate))]\n",
    "\n",
    "# average_score = np.mean(scores)\n",
    "# print \"Kernel:\", 'poly', \"Gamma:\", 2, \"C:\", 100, \"Average score:\", average_score\n",
    "\n",
    "# model = svm.SVC(kernel='poly', gamma=2, C=100)\n",
    "# model.fit(trainers[0], list(trainers[1]))\n",
    "# print model.score(x_test_red, list(y_test))"
   ]
  },
  {
   "cell_type": "code",
   "execution_count": null,
   "metadata": {
    "collapsed": true
   },
   "outputs": [],
   "source": []
  },
  {
   "cell_type": "code",
   "execution_count": null,
   "metadata": {
    "collapsed": false
   },
   "outputs": [],
   "source": [
    "# # Parameters for tuning\n",
    "# n_trees = np.arange(10, 100, 20)  # Trees and depth are explored on an exponentially growing space,\n",
    "# depths = np.arange(2, 10)   # since it is assumed that trees and depth will add accuracy in a decaying fashion.\n",
    "\n",
    "# # To keep track of the best model\n",
    "# best_score = 0\n",
    "\n",
    "# # Run grid search for model with 5-fold cross validation\n",
    "# print '5-fold cross validation:'\n",
    "\n",
    "# for trees in n_trees:\n",
    "#     for depth in depths:\n",
    "        \n",
    "#         # Cross validation for every experiment\n",
    "#         k_folds = KFold(x_train_red.shape[0], n_folds=5, shuffle=True)\n",
    "#         scores = []\n",
    "#         for train_indices, validation_indices in k_folds:\n",
    "#             # Generate training data\n",
    "#             x_train_cv = x_train_red[train_indices]\n",
    "#             y_train_cv = y_train[train_indices]\n",
    "#             # Generate validation data\n",
    "#             x_validate = x_train_red[validation_indices]\n",
    "#             y_validate = y_train[validation_indices]      \n",
    "            \n",
    "#             # Fit random forest on training data\n",
    "#             model = RandomForestClassifier(n_estimators=trees, max_depth=depth)\n",
    "#             model.fit(x_train_cv, y_train_cv)\n",
    "#             # Score on validation data\n",
    "#             scores += [model.score(x_validate, y_validate)]\n",
    "        \n",
    "#         # Record and report accuracy\n",
    "#         average_score = np.mean(scores)\n",
    "#         print \"Trees:\", trees, \"Depth:\", depth, \"Score:\", average_score\n",
    "        \n",
    "#         # Update our record of the best parameters see so far\n",
    "#         if average_score > best_score:\n",
    "#             best_score = average_score\n",
    "#             best_trees = trees\n",
    "#             best_depth = depth\n",
    "\n",
    "# # Fit model on entire train set using chosen number of trees and depth\n",
    "# model = RandomForestClassifier(n_estimators=best_trees, max_depth=best_depth)\n",
    "# model.fit(x_train_red, y_train)\n",
    "\n",
    "# print 'Chosen number of trees, depth:', best_trees, ',', best_depth\n",
    "# print 'Test accuracy:', model.score(x_test_red, y_test)"
   ]
  },
  {
   "cell_type": "code",
   "execution_count": 450,
   "metadata": {
    "collapsed": false
   },
   "outputs": [],
   "source": [
    "new_trainer = rand_1400.sample(frac=.5)\n",
    "new_tester = rand_1400.drop(new_trainer.index.tolist())\n",
    "\n",
    "tr_numerator = new_trainer['HelpfulnessNumerator'].values\n",
    "tr_denominator = (new_trainer['HelpfulnessDenominator'].values).astype(float)\n",
    "tr_y = tr_numerator / tr_denominator\n",
    "\n",
    "tr_y[tr_y > 1./2] = 2\n",
    "tr_y[tr_y <= 1./2] = 1\n",
    "te_numerator = new_tester['HelpfulnessNumerator'].values\n",
    "te_denominator = (new_tester['HelpfulnessDenominator'].values).astype(float)\n",
    "te_y = te_numerator / te_denominator\n",
    "te_y = np.nan_to_num(te_y)\n",
    "\n",
    "te_y[te_y > 1./2] = 2\n",
    "te_y[te_y <= 1./2] = 1"
   ]
  },
  {
   "cell_type": "code",
   "execution_count": 451,
   "metadata": {
    "collapsed": false
   },
   "outputs": [
    {
     "name": "stdout",
     "output_type": "stream",
     "text": [
      "0.816593886463\n"
     ]
    }
   ],
   "source": [
    "text_clf = Pipeline([('vect', CountVectorizer(stop_words='english', min_df=1, binary=True)), ('tfidf', TfidfTransformer()), ('clf', MultinomialNB()),])\n",
    "text_clf = text_clf.fit(new_trainer['Text'].values, tr_y)\n",
    "predicted = text_clf.predict(new_tester['Text'].values)\n",
    "print np.mean(predicted==te_y)"
   ]
  },
  {
   "cell_type": "code",
   "execution_count": 452,
   "metadata": {
    "collapsed": false
   },
   "outputs": [
    {
     "name": "stdout",
     "output_type": "stream",
     "text": [
      "0.821474441305\n"
     ]
    }
   ],
   "source": [
    "parameters = {'vect__ngram_range': [(1, 1), (1, 2)], 'tfidf__use_idf': (True, False), 'clf__alpha': (1e-2, 1e-3),}\n",
    "gs_clf = GridSearchCV(text_clf, parameters, n_jobs=-1)\n",
    "gs_clf = gs_clf.fit(new_trainer['Text'].values, tr_y)\n",
    "cv_predicted = gs_clf.predict(new_tester['Text'].values)\n",
    "print np.mean(cv_predicted==te_y)"
   ]
  },
  {
   "cell_type": "code",
   "execution_count": 453,
   "metadata": {
    "collapsed": false
   },
   "outputs": [
    {
     "name": "stdout",
     "output_type": "stream",
     "text": [
      "(3893,)\n",
      "(3893,)\n",
      "\n",
      "\n",
      "WITH CLASS BALANCE CORRECTION\n",
      "[[  28  686]\n",
      " [   9 3170]]\n",
      "\n",
      "False Positive Rate: 0.960784313725\n",
      "False Negative Rate: 0.00283107895565\n",
      "True Positive Rate: 0.822095435685\n",
      "True Negative Rate: 0.756756756757\n",
      "\n",
      "Accuracy on 2 Class Helpfulness: 0.997168921044\n",
      "Accuracy on 1 Class Helpfulness: 0.0392156862745\n"
     ]
    }
   ],
   "source": [
    "tn, fp, fn, tp = confusion_matrix(te_y, cv_predicted).ravel() #from sklearn docs\n",
    "print cv_predicted.shape\n",
    "print te_y.shape\n",
    "print \"\\n\\nWITH CLASS BALANCE CORRECTION\"\n",
    "print confusion_matrix(te_y, cv_predicted)\n",
    "print\n",
    "print \"False Positive Rate:\", fp/float(fp+tn)\n",
    "print \"False Negative Rate:\", fn/float(fn+tp)\n",
    "print \"True Positive Rate:\", tp/float(tp+fp)\n",
    "print \"True Negative Rate:\", tn/float(tn+fn)\n",
    "print\n",
    "print \"Accuracy on 2 Class Helpfulness:\", np.mean(cv_predicted[te_y == 2] == te_y[te_y == 2])\n",
    "print \"Accuracy on 1 Class Helpfulness:\", np.mean(cv_predicted[te_y == 1] == te_y[te_y == 1])"
   ]
  },
  {
   "cell_type": "code",
   "execution_count": 454,
   "metadata": {
    "collapsed": false
   },
   "outputs": [
    {
     "name": "stdout",
     "output_type": "stream",
     "text": [
      "(2657,)\n",
      "(2657,)\n",
      "\n",
      "\n",
      "WITH CLASS BALANCE CORRECTION\n",
      "[[ 126  352]\n",
      " [ 128 2051]]\n",
      "\n",
      "False Positive Rate: 0.73640167364\n",
      "False Negative Rate: 0.0587425424507\n",
      "True Positive Rate: 0.853516437786\n",
      "True Negative Rate: 0.496062992126\n",
      "\n",
      "Accuracy on 2 Class Helpfulness: 0.941257457549\n",
      "Accuracy on 1 Class Helpfulness: 0.26359832636\n"
     ]
    }
   ],
   "source": [
    "frac_helpful = rand_1400['HelpfulnessNumerator'].value_counts()[0] / float(rand_1400['HelpfulnessNumerator'].shape[0])\n",
    "h_tune = 0.0\n",
    "weights = {0:1/(1 - frac_helpful + h_tune), 1:1/(frac_helpful - h_tune)}\n",
    "\n",
    "log_model = LogReg(C=0.01, penalty='l2', class_weight=weights)\n",
    "model.fit(x_train, y_train)\n",
    "y_pred = model.predict(x_test)\n",
    "\n",
    "tn, fp, fn, tp = confusion_matrix(y_test, y_pred).ravel() #from sklearn docs\n",
    "print y_pred.shape\n",
    "print y_test.shape\n",
    "print \"\\n\\nWITH CLASS BALANCE CORRECTION\"\n",
    "print confusion_matrix(y_test, y_pred)\n",
    "print\n",
    "print \"False Positive Rate:\", fp/float(fp+tn)\n",
    "print \"False Negative Rate:\", fn/float(fn+tp)\n",
    "print \"True Positive Rate:\", tp/float(tp+fp)\n",
    "print \"True Negative Rate:\", tn/float(tn+fn)\n",
    "print\n",
    "print \"Accuracy on 2 Class Helpfulness:\", np.mean(y_pred[y_test == 2] == y_test[y_test == 2])\n",
    "print \"Accuracy on 1 Class Helpfulness:\", np.mean(y_pred[y_test == 1] == y_test[y_test == 1])"
   ]
  },
  {
   "cell_type": "code",
   "execution_count": null,
   "metadata": {
    "collapsed": true
   },
   "outputs": [],
   "source": []
  }
 ],
 "metadata": {
  "anaconda-cloud": {},
  "kernelspec": {
   "display_name": "Python [Root]",
   "language": "python",
   "name": "Python [Root]"
  },
  "language_info": {
   "codemirror_mode": {
    "name": "ipython",
    "version": 2
   },
   "file_extension": ".py",
   "mimetype": "text/x-python",
   "name": "python",
   "nbconvert_exporter": "python",
   "pygments_lexer": "ipython2",
   "version": "2.7.12"
  }
 },
 "nbformat": 4,
 "nbformat_minor": 0
}
