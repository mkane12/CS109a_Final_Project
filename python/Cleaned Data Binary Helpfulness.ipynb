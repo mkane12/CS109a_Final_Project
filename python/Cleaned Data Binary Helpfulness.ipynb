{
 "cells": [
  {
   "cell_type": "code",
   "execution_count": 250,
   "metadata": {
    "collapsed": false
   },
   "outputs": [],
   "source": [
    "import numpy as np\n",
    "import pandas as pd\n",
    "from urllib2 import Request, urlopen\n",
    "import json\n",
    "import sys\n",
    "from pandas.io.json import json_normalize\n",
    "from sklearn.feature_extraction.text import CountVectorizer\n",
    "from sklearn.preprocessing import LabelEncoder\n",
    "from sklearn.decomposition import PCA\n",
    "from sklearn.feature_extraction.text import TfidfTransformer\n",
    "from sklearn.naive_bayes import MultinomialNB\n",
    "from sklearn.pipeline import Pipeline\n",
    "from sklearn.grid_search import GridSearchCV\n",
    "from sklearn.cross_validation import KFold, cross_val_score\n",
    "from sklearn.ensemble import RandomForestClassifier\n",
    "from sklearn.linear_model import LogisticRegression as LogReg\n",
    "from sklearn.linear_model import LogisticRegressionCV as LogRegCV\n",
    "from sklearn import svm\n",
    "import matplotlib\n",
    "import matplotlib.pyplot as plt\n",
    "from mpl_toolkits.mplot3d import Axes3D\n",
    "from sklearn.preprocessing import LabelEncoder\n",
    "from sklearn.metrics import confusion_matrix\n",
    "%matplotlib inline"
   ]
  },
  {
   "cell_type": "code",
   "execution_count": 251,
   "metadata": {
    "collapsed": false
   },
   "outputs": [
    {
     "data": {
      "text/html": [
       "<div>\n",
       "<table border=\"1\" class=\"dataframe\">\n",
       "  <thead>\n",
       "    <tr style=\"text-align: right;\">\n",
       "      <th></th>\n",
       "      <th>Id</th>\n",
       "      <th>ProductId</th>\n",
       "      <th>UserId</th>\n",
       "      <th>ProfileName</th>\n",
       "      <th>HelpfulnessNumerator</th>\n",
       "      <th>HelpfulnessDenominator</th>\n",
       "      <th>Score</th>\n",
       "      <th>Time</th>\n",
       "      <th>Summary</th>\n",
       "      <th>Text</th>\n",
       "    </tr>\n",
       "  </thead>\n",
       "  <tbody>\n",
       "    <tr>\n",
       "      <th>0</th>\n",
       "      <td>1</td>\n",
       "      <td>B001E4KFG0</td>\n",
       "      <td>A3SGXH7AUHU8GW</td>\n",
       "      <td>delmartian</td>\n",
       "      <td>1</td>\n",
       "      <td>1</td>\n",
       "      <td>5</td>\n",
       "      <td>1303862400</td>\n",
       "      <td>Good Quality Dog Food</td>\n",
       "      <td>I have bought several of the Vitality canned d...</td>\n",
       "    </tr>\n",
       "    <tr>\n",
       "      <th>1</th>\n",
       "      <td>2</td>\n",
       "      <td>B00813GRG4</td>\n",
       "      <td>A1D87F6ZCVE5NK</td>\n",
       "      <td>dll pa</td>\n",
       "      <td>0</td>\n",
       "      <td>0</td>\n",
       "      <td>1</td>\n",
       "      <td>1346976000</td>\n",
       "      <td>Not as Advertised</td>\n",
       "      <td>Product arrived labeled as Jumbo Salted Peanut...</td>\n",
       "    </tr>\n",
       "    <tr>\n",
       "      <th>2</th>\n",
       "      <td>3</td>\n",
       "      <td>B000LQOCH0</td>\n",
       "      <td>ABXLMWJIXXAIN</td>\n",
       "      <td>Natalia Corres \"Natalia Corres\"</td>\n",
       "      <td>1</td>\n",
       "      <td>1</td>\n",
       "      <td>4</td>\n",
       "      <td>1219017600</td>\n",
       "      <td>\"Delight\" says it all</td>\n",
       "      <td>This is a confection that has been around a fe...</td>\n",
       "    </tr>\n",
       "  </tbody>\n",
       "</table>\n",
       "</div>"
      ],
      "text/plain": [
       "   Id   ProductId          UserId                      ProfileName  \\\n",
       "0   1  B001E4KFG0  A3SGXH7AUHU8GW                       delmartian   \n",
       "1   2  B00813GRG4  A1D87F6ZCVE5NK                           dll pa   \n",
       "2   3  B000LQOCH0   ABXLMWJIXXAIN  Natalia Corres \"Natalia Corres\"   \n",
       "\n",
       "   HelpfulnessNumerator  HelpfulnessDenominator  Score        Time  \\\n",
       "0                     1                       1      5  1303862400   \n",
       "1                     0                       0      1  1346976000   \n",
       "2                     1                       1      4  1219017600   \n",
       "\n",
       "                 Summary                                               Text  \n",
       "0  Good Quality Dog Food  I have bought several of the Vitality canned d...  \n",
       "1      Not as Advertised  Product arrived labeled as Jumbo Salted Peanut...  \n",
       "2  \"Delight\" says it all  This is a confection that has been around a fe...  "
      ]
     },
     "execution_count": 251,
     "metadata": {},
     "output_type": "execute_result"
    }
   ],
   "source": [
    "cleaned_data = pd.read_csv(\"cleaned_data.csv\")\n",
    "cleaned_data.head(n=3)"
   ]
  },
  {
   "cell_type": "code",
   "execution_count": 252,
   "metadata": {
    "collapsed": false
   },
   "outputs": [
    {
     "data": {
      "text/plain": [
       "(7786, 10)"
      ]
     },
     "execution_count": 252,
     "metadata": {},
     "output_type": "execute_result"
    }
   ],
   "source": [
    "cleaned_data = cleaned_data[cleaned_data[\"HelpfulnessDenominator\"] > 15]\n",
    "cleaned_data.shape"
   ]
  },
  {
   "cell_type": "code",
   "execution_count": 253,
   "metadata": {
    "collapsed": false
   },
   "outputs": [
    {
     "data": {
      "text/plain": [
       "(1401, 10)"
      ]
     },
     "execution_count": 253,
     "metadata": {},
     "output_type": "execute_result"
    }
   ],
   "source": [
    "rand_1400 = cleaned_data.sample(frac=.18)\n",
    "rand_1400.shape"
   ]
  },
  {
   "cell_type": "code",
   "execution_count": 254,
   "metadata": {
    "collapsed": false
   },
   "outputs": [
    {
     "data": {
      "text/plain": [
       "'The original set has 7786 entries, while our testing set only has 1401.'"
      ]
     },
     "execution_count": 254,
     "metadata": {},
     "output_type": "execute_result"
    }
   ],
   "source": [
    "'The original set has {0} entries, while our testing set only has {1}.'.format(cleaned_data.shape[0], rand_1400.shape[0])"
   ]
  },
  {
   "cell_type": "code",
   "execution_count": 255,
   "metadata": {
    "collapsed": false
   },
   "outputs": [
    {
     "name": "stdout",
     "output_type": "stream",
     "text": [
      "Range of Review Lengths: 7 words - 2096 words\n",
      "Mean of Review Lengths: 163.059243398\n"
     ]
    },
    {
     "data": {
      "image/png": "[encoded data removed]",
      "text/plain": [
       "<matplotlib.figure.Figure at 0x11a24bd10>"
      ]
     },
     "metadata": {},
     "output_type": "display_data"
    }
   ],
   "source": [
    "# Splits each review by spaces.\n",
    "lengths = rand_1400['Text'].apply(lambda x: len(x.split(' ')))\n",
    "\n",
    "print 'Range of Review Lengths: {0} words - {1} words'.format(np.min(lengths), np.max(lengths))\n",
    "print 'Mean of Review Lengths: {}'.format(np.mean(lengths))\n",
    "\n",
    "fig, ax = plt.subplots(1, 1, figsize=(15, 6))\n",
    "\n",
    "# Histogram of the word counts in each post\n",
    "ax.hist(lengths, color='blue', bins=60, alpha=0.5)\n",
    "\n",
    "ax.set_xlabel('Number of Words in Post')\n",
    "ax.set_ylabel('Number of Posts')\n",
    "ax.set_title('Histogram of Length of Posts')\n",
    "\n",
    "plt.show()"
   ]
  },
  {
   "cell_type": "code",
   "execution_count": 256,
   "metadata": {
    "collapsed": false
   },
   "outputs": [],
   "source": [
    "# Create a text vectorizer (turns text into array of numbers)\n",
    "vectorizer = CountVectorizer(stop_words='english', min_df=1, binary=True)\n",
    "\n",
    "# Get all the text from data\n",
    "corpus = rand_1400['Text'].values\n",
    "\n",
    "# Turn each text into an array of word counts\n",
    "x = vectorizer.fit_transform(corpus)\n",
    "x = x.toarray()\n",
    "\n",
    "# Get the names of all the words we're counting\n",
    "feature_names = vectorizer.get_feature_names()\n",
    "\n",
    "#Number of top words\n",
    "n = 20\n",
    "\n",
    "#Count the number of time each word occurs in the entire dataset\n",
    "word_freq = x.sum(axis=0)\n",
    "\n",
    "#Sort the words by their total frequency in the dataset\n",
    "words = zip(word_freq, feature_names)\n",
    "top_words = (sorted(words, key=lambda t: t[0], reverse=True))[:n]"
   ]
  },
  {
   "cell_type": "code",
   "execution_count": 257,
   "metadata": {
    "collapsed": false
   },
   "outputs": [
    {
     "data": {
      "image/png": "[encoded data removed]",
      "text/plain": [
       "<matplotlib.figure.Figure at 0x11dac2390>"
      ]
     },
     "metadata": {},
     "output_type": "display_data"
    }
   ],
   "source": [
    "fig, ax = plt.subplots(1, 1, figsize=(15, 6))\n",
    "\n",
    "# Number of bars to use\n",
    "indices = np.arange(n)\n",
    "# Where to put the label under each bar\n",
    "width = 0.5\n",
    "# Bar plot of the frequencies of the top words\n",
    "ax.bar(indices, [word[0] for word in top_words], color='blue', alpha=0.5)\n",
    "\n",
    "ax.set_ylabel('Frequency')\n",
    "ax.set_title('Top ' + str(n) + ' Words')\n",
    "\n",
    "# Label the bars with the top words\n",
    "ax.set_xticks(indices + width)\n",
    "ax.set_xticklabels([word[1] for word in top_words])\n",
    "\n",
    "# Turn the labels sideways so they don't overlap\n",
    "labels = ax.get_xticklabels()\n",
    "plt.setp(labels, rotation=30, fontsize=10)\n",
    "\n",
    "plt.show()"
   ]
  },
  {
   "cell_type": "code",
   "execution_count": 258,
   "metadata": {
    "collapsed": false
   },
   "outputs": [
    {
     "name": "stdout",
     "output_type": "stream",
     "text": [
      "[ 8 12  9  0 17 41 10  1 16 10]\n",
      "[ 25.  29.  22.  16.  17.  43.  16.  19.  17.  17.]\n",
      "[ 0.32        0.4137931   0.40909091  0.          1.          0.95348837\n",
      "  0.625       0.05263158  0.94117647  0.58823529]\n"
     ]
    }
   ],
   "source": [
    "# Encode the class labels, things sometimes get funky if you don't do this.\n",
    "y_numerator = rand_1400['HelpfulnessNumerator'].values\n",
    "y_denominator = (rand_1400['HelpfulnessDenominator'].values).astype(float)\n",
    "y = y_numerator / y_denominator\n",
    "\n",
    "print y_numerator[20:30]\n",
    "print y_denominator[20:30]\n",
    "print y[20:30]"
   ]
  },
  {
   "cell_type": "code",
   "execution_count": 259,
   "metadata": {
    "collapsed": false
   },
   "outputs": [
    {
     "name": "stdout",
     "output_type": "stream",
     "text": [
      "Number of sub 50% reviews: 296\n",
      "Number of sub 100% reviews: 1105\n"
     ]
    }
   ],
   "source": [
    "# print 'Number of sub 33% reviews:', len(y[y <= 1./3])\n",
    "# print 'Number of sub 67% reviews:', len(y[(y > 1./3) & (y < 2./3)])\n",
    "# print 'Number of sub 100% reviews:', len(y[y >= 2./3])\n",
    "print 'Number of sub 50% reviews:', len(y[y <= 1./2])\n",
    "print 'Number of sub 100% reviews:', len(y[y > 1./2])"
   ]
  },
  {
   "cell_type": "code",
   "execution_count": 260,
   "metadata": {
    "collapsed": false
   },
   "outputs": [],
   "source": [
    "y[y > 1./2] = 2\n",
    "y[y <= 1./2] = 1"
   ]
  },
  {
   "cell_type": "code",
   "execution_count": 261,
   "metadata": {
    "collapsed": false
   },
   "outputs": [
    {
     "name": "stdout",
     "output_type": "stream",
     "text": [
      "Number of sub 50% reviews: 296\n",
      "Number of sub 100% reviews: 1105\n"
     ]
    }
   ],
   "source": [
    "# print 'Number of sub 34% reviews:', len(y[y == 1])\n",
    "# print 'Number of sub 67% reviews:', len(y[y == 2])\n",
    "# print 'Number of sub 100% reviews:', len(y[y == 3])\n",
    "print 'Number of sub 50% reviews:', len(y[y == 1])\n",
    "print 'Number of sub 100% reviews:', len(y[y == 2])"
   ]
  },
  {
   "cell_type": "code",
   "execution_count": null,
   "metadata": {
    "collapsed": true
   },
   "outputs": [],
   "source": []
  },
  {
   "cell_type": "code",
   "execution_count": 262,
   "metadata": {
    "collapsed": false
   },
   "outputs": [
    {
     "data": {
      "image/png": "[encoded data removed]",
      "text/plain": [
       "<matplotlib.figure.Figure at 0x121326d90>"
      ]
     },
     "metadata": {},
     "output_type": "display_data"
    }
   ],
   "source": [
    "colors = [\"red\", \"blue\"]\n",
    "percents = [\"Sub 50%\", \"Sub 100%\"]\n",
    "fig, ax = plt.subplots(2, 1, figsize=(15, 22))\n",
    "\n",
    "for i in range(2):\n",
    "    #Number of bars to use\n",
    "    indices = np.arange(n)\n",
    "    #Where to put the label under each bar\n",
    "    width = 0.5\n",
    "\n",
    "    #Count the number of time each word occurs in the 1 stars posts\n",
    "    word_freq = x[y == i+1].sum(axis=0)\n",
    "\n",
    "    #Sort the words by their total frequency in the dataset\n",
    "    words = zip(word_freq, feature_names)\n",
    "    top_words = (sorted(words, key=lambda t: t[0], reverse=True))[:n]\n",
    "\n",
    "    #Bar plot of the frequencies of the top words\n",
    "    ax[i].bar(indices, [word[0] for word in top_words], color=colors[i], alpha=0.5)\n",
    "\n",
    "    ax[i].set_ylabel('Frequency')\n",
    "    ax[i].set_title('Top ' + str(n) + ' Words in ' + percents[i] + ' Helpfulness Reviews')\n",
    "\n",
    "    #Label the bars with the top words\n",
    "    ax[i].set_xticks(indices + width)\n",
    "    ax[i].set_xticklabels([word[1] for word in top_words])\n",
    "\n",
    "    #Turn the labels sideways so they don't overlap\n",
    "    labels = ax[i].get_xticklabels()\n",
    "    plt.setp(labels, rotation=30, fontsize=10)\n",
    "\n",
    "plt.show()"
   ]
  },
  {
   "cell_type": "code",
   "execution_count": 263,
   "metadata": {
    "collapsed": false
   },
   "outputs": [
    {
     "name": "stdout",
     "output_type": "stream",
     "text": [
      "Reviews in Training Set: 952\n",
      "Accuracy on overall test set: 0.815144766147\n",
      "Accuracy on Sub 50% set: 0.111111111111\n",
      "Accuracy on Sub 100% set: 0.991643454039\n"
     ]
    }
   ],
   "source": [
    "# Train/test split\n",
    "n_samples = len(x)\n",
    "train_indices = np.random.uniform(size=n_samples) > 1. / 3.  #Select two thirds for train\n",
    "\n",
    "x_train = x[train_indices]\n",
    "y_train = y[train_indices]\n",
    "print \"Reviews in Training Set: {0}\".format(x_train.shape[0])\n",
    "x_test = x[~train_indices]\n",
    "y_test = y[~train_indices]\n",
    "\n",
    "#Generate array of L2 regularization parameters\n",
    "regularization = 10.**np.arange(-10, 5)\n",
    "\n",
    "#Fit logistic model with cross validation to select the optimal regularization parameter\n",
    "logistic = LogRegCV(cv=5, penalty='l2', Cs=regularization, solver='liblinear', n_jobs=4)\n",
    "logistic.fit(x_train, y_train)\n",
    "\n",
    "#Print results\n",
    "print 'Accuracy on overall test set:', logistic.score(x_test, y_test)\n",
    "print 'Accuracy on Sub 50% set:', logistic.score(x_test[y_test == 1], y_test[y_test == 1])\n",
    "print 'Accuracy on Sub 100% set:', logistic.score(x_test[y_test == 2], y_test[y_test == 2])"
   ]
  },
  {
   "cell_type": "code",
   "execution_count": 264,
   "metadata": {
    "collapsed": true
   },
   "outputs": [],
   "source": [
    "# This function computes the accuracy of logistic regression given cut-offs, min_df, max_df\n",
    "def vectorize_classify(min_df, max_df, trials, x, y):\n",
    "    #Create a text vectorizer, removing words with frequency less than min_df or\n",
    "    #greater than max_df\n",
    "    vectorizer = CountVectorizer(stop_words='english', min_df=min_df, max_df=max_df)\n",
    "    #Transform our text into arrays of numbers\n",
    "    corpus = rand_1400['Text'].values\n",
    "    x = vectorizer.fit_transform(corpus)\n",
    "    x = x.toarray()\n",
    "    \n",
    "    #Record overall accuracy rate, accuracy on class 1 and class 0\n",
    "    overall_acc = []\n",
    "    class_2_acc = []\n",
    "    class_1_acc = []\n",
    "    \n",
    "    \n",
    "    n_samples = len(x)\n",
    "    \n",
    "    #Perform logistic regression on a handful of train/test splits\n",
    "    for i in range(trials):\n",
    "        #Print progress\n",
    "        sys.stdout.write(\"\\r{0}% completed\".format((float(i + 1)/trials)*100))\n",
    "        sys.stdout.flush()\n",
    "        \n",
    "        # Train/test split\n",
    "        train_indices = np.random.uniform(size=n_samples) > 1. / 3.  #Select two thirds for train\n",
    "\n",
    "        x_train = x[train_indices]\n",
    "        y_train = y[train_indices]\n",
    "\n",
    "        x_test = x[~train_indices]\n",
    "        y_test = y[~train_indices]\n",
    "\n",
    "        #Generate array of L2 regularization parameters\n",
    "        regularization = 10. ** np.arange(-10, 5)\n",
    "\n",
    "        #Fit logistic model\n",
    "        logistic = LogRegCV(cv=5, \n",
    "                            penalty='l2', \n",
    "                            Cs=regularization, \n",
    "                            solver='liblinear', \n",
    "                            n_jobs=4)\n",
    "        logistic.fit(x_train, y_train)\n",
    "        \n",
    "        overall_acc.append(logistic.score(x_test, y_test))\n",
    "        class_1_acc.append(logistic.score(x_test[y_test == 1], y_test[y_test == 1]))\n",
    "        class_2_acc.append(logistic.score(x_test[y_test == 2], y_test[y_test == 2]))\n",
    "\n",
    "    return (np.mean(overall_acc), \n",
    "            np.mean(class_1_acc),\n",
    "            np.mean(class_2_acc))"
   ]
  },
  {
   "cell_type": "code",
   "execution_count": 265,
   "metadata": {
    "collapsed": false
   },
   "outputs": [
    {
     "name": "stdout",
     "output_type": "stream",
     "text": [
      "100.0% completed\n",
      "Min frequency, max frequency: 15 , 180\n",
      "Accuracy on overall test set: 0.787148220877\n",
      "Accuracy on class 1 in test set: 0.0\n",
      "Accuracy on class 2 in test set: 1.0\n"
     ]
    }
   ],
   "source": [
    "# Solution to not identifying class 2 and 3 possibly\n",
    "min_df = 15\n",
    "max_df = 180\n",
    "trials = 10\n",
    "overall, class_1, class_2 = vectorize_classify(min_df, max_df, trials, x, y)\n",
    "print '\\nMin frequency, max frequency:', min_df, ',', max_df\n",
    "print 'Accuracy on overall test set:', overall\n",
    "print 'Accuracy on class 1 in test set:', class_1\n",
    "print 'Accuracy on class 2 in test set:', class_2\n"
   ]
  },
  {
   "cell_type": "code",
   "execution_count": 266,
   "metadata": {
    "collapsed": false
   },
   "outputs": [
    {
     "name": "stdout",
     "output_type": "stream",
     "text": [
      "Accuracy for reviews: 0.788722341185\n",
      "Accuracy for 1 star: 0.0\n",
      "Accuracy for 2 Star: 1.0\n"
     ]
    }
   ],
   "source": [
    "pca = PCA(n_components=800)\n",
    "pca.fit(x_train)\n",
    "x_reduced = pca.transform(x)\n",
    "x_train_red = pca.transform(x_train)\n",
    "x_test_red = pca.transform(x_test)\n",
    "\n",
    "x_1 = x_test_red[y==1, :]\n",
    "x_2 = x_test_red[y==2, :]\n",
    "\n",
    "logistic.fit(x_train_red, y_train)\n",
    "\n",
    "y_pred = logistic.predict(x_reduced)\n",
    "pred_1 = logistic.predict(x_1)\n",
    "pred_2 = logistic.predict(x_2)\n",
    "\n",
    "print 'Accuracy for reviews:', np.mean(y == y_pred)\n",
    "print 'Accuracy for 1 star:', np.mean(y[y==1] == pred_1)\n",
    "print 'Accuracy for 2 Star:', np.mean(y[y==2] == pred_2)\n"
   ]
  },
  {
   "cell_type": "code",
   "execution_count": 278,
   "metadata": {
    "collapsed": true
   },
   "outputs": [],
   "source": [
    "train_indices = np.random.uniform(size=len(x)) > 1. / 3.  #Select two thirds for train\n",
    "\n",
    "x_train = x[train_indices]\n",
    "y_train = y[train_indices]\n",
    "\n",
    "x_test = x[~train_indices]\n",
    "y_test = y[~train_indices]\n",
    "\n",
    "pca = PCA(n_components=900)\n",
    "pca.fit(x_train)\n",
    "x_reduced = pca.transform(x)\n",
    "x_train_red = pca.transform(x_train)\n",
    "x_test_red = pca.transform(x_test)\n"
   ]
  },
  {
   "cell_type": "code",
   "execution_count": 279,
   "metadata": {
    "collapsed": false
   },
   "outputs": [
    {
     "name": "stdout",
     "output_type": "stream",
     "text": [
      "0.774678111588\n"
     ]
    }
   ],
   "source": [
    "logistic.fit(x_train_red, y_train)\n",
    "y_test_pred = logistic.predict(x_test_red)\n",
    "print np.mean(y_test_pred==y_test)"
   ]
  },
  {
   "cell_type": "code",
   "execution_count": 269,
   "metadata": {
    "collapsed": false
   },
   "outputs": [
    {
     "name": "stdout",
     "output_type": "stream",
     "text": [
      "C= 0.0001 : 0.788723224862\n",
      "C= 0.001 : 0.788723224862\n",
      "C= 0.01 : 0.788723224862\n",
      "C= 0.1 : 0.791578354543\n",
      "C= 1 : 0.774458396601\n",
      "C= 10 : 0.742346009879\n",
      "C= 100 : 0.726638299698\n"
     ]
    },
    {
     "data": {
      "image/png": "[encoded data removed]",
      "text/plain": [
       "<matplotlib.figure.Figure at 0x13a025790>"
      ]
     },
     "metadata": {},
     "output_type": "display_data"
    }
   ],
   "source": [
    "cvals = [0.0001, 0.001, 0.01, 0.1, 1, 10, 100]\n",
    "scores = []\n",
    "for c in cvals: #try cross validating the data with different regularization parameters\n",
    "    log_model = LogReg(C=c, penalty='l2') #initiate unregularized logistic regression model\n",
    "    score = cross_val_score(log_model, x_reduced, y, n_jobs=-1).mean() #cross validate\n",
    "    scores.append(score)\n",
    "    print \"C=\",c ,\":\", score\n",
    "    \n",
    "plt.plot(cvals, scores)\n",
    "plt.xscale('log')\n",
    "plt.title(\"Accuracy by Regularization Parameter value\")\n",
    "plt.xlabel(\"Parameter value\")\n",
    "plt.ylabel(\"Accuracy\")\n",
    "plt.grid()\n",
    "plt.show()"
   ]
  },
  {
   "cell_type": "code",
   "execution_count": 270,
   "metadata": {
    "collapsed": false
   },
   "outputs": [
    {
     "name": "stdout",
     "output_type": "stream",
     "text": [
      "0.279220779221\n"
     ]
    }
   ],
   "source": [
    "model = svm.SVC(kernel='poly', gamma=2, C=100)\n",
    "model.fit(x_train_red, list(y_train))\n",
    "print model.score(x_test_red, list(y_test))"
   ]
  },
  {
   "cell_type": "code",
   "execution_count": 271,
   "metadata": {
    "collapsed": false
   },
   "outputs": [
    {
     "name": "stdout",
     "output_type": "stream",
     "text": [
      "5-fold cross validation:\n",
      "Kernel: poly Gamma: 2 C: 100 Average score: 0.279036295369\n",
      "0.274891774892\n"
     ]
    }
   ],
   "source": [
    "print '5-fold cross validation:'\n",
    "best_score = 0\n",
    "k_folds = KFold(x_train_red.shape[0], n_folds=5, shuffle=True)\n",
    "scores = []\n",
    "trainers = [None, None]\n",
    "for train_indices, validation_indices in k_folds:\n",
    "    # Generate training data\n",
    "    x_train_cv = x_train_red[train_indices]\n",
    "    y_train_cv = y_train[train_indices]\n",
    "    # Generate validation data\n",
    "    x_validate = x_train_red[validation_indices]\n",
    "    y_validate = y_train[validation_indices]\n",
    "\n",
    "    # Fit random forest on training data\n",
    "    model = svm.SVC(kernel='poly', gamma=2, C=100)\n",
    "    model.fit(x_train_cv, list(y_train_cv))\n",
    "    if model.score(x_validate, list(y_validate)) > best_score:\n",
    "        trainers[0] = x_train_cv\n",
    "        trainers[1] = y_train_cv\n",
    "    scores += [model.score(x_validate, list(y_validate))]\n",
    "\n",
    "average_score = np.mean(scores)\n",
    "print \"Kernel:\", 'poly', \"Gamma:\", 2, \"C:\", 100, \"Average score:\", average_score\n",
    "\n",
    "model = svm.SVC(kernel='poly', gamma=2, C=100)\n",
    "model.fit(trainers[0], list(trainers[1]))\n",
    "print model.score(x_test_red, list(y_test))"
   ]
  },
  {
   "cell_type": "code",
   "execution_count": null,
   "metadata": {
    "collapsed": true
   },
   "outputs": [],
   "source": []
  },
  {
   "cell_type": "code",
   "execution_count": 272,
   "metadata": {
    "collapsed": false
   },
   "outputs": [],
   "source": [
    "# # Parameters for tuning\n",
    "# n_trees = np.arange(10, 100, 20)  # Trees and depth are explored on an exponentially growing space,\n",
    "# depths = np.arange(2, 10)   # since it is assumed that trees and depth will add accuracy in a decaying fashion.\n",
    "\n",
    "# # To keep track of the best model\n",
    "# best_score = 0\n",
    "\n",
    "# # Run grid search for model with 5-fold cross validation\n",
    "# print '5-fold cross validation:'\n",
    "\n",
    "# for trees in n_trees:\n",
    "#     for depth in depths:\n",
    "        \n",
    "#         # Cross validation for every experiment\n",
    "#         k_folds = KFold(x_train_red.shape[0], n_folds=5, shuffle=True)\n",
    "#         scores = []\n",
    "#         for train_indices, validation_indices in k_folds:\n",
    "#             # Generate training data\n",
    "#             x_train_cv = x_train_red[train_indices]\n",
    "#             y_train_cv = y_train[train_indices]\n",
    "#             # Generate validation data\n",
    "#             x_validate = x_train_red[validation_indices]\n",
    "#             y_validate = y_train[validation_indices]      \n",
    "            \n",
    "#             # Fit random forest on training data\n",
    "#             model = RandomForestClassifier(n_estimators=trees, max_depth=depth)\n",
    "#             model.fit(x_train_cv, y_train_cv)\n",
    "#             # Score on validation data\n",
    "#             scores += [model.score(x_validate, y_validate)]\n",
    "        \n",
    "#         # Record and report accuracy\n",
    "#         average_score = np.mean(scores)\n",
    "#         print \"Trees:\", trees, \"Depth:\", depth, \"Score:\", average_score\n",
    "        \n",
    "#         # Update our record of the best parameters see so far\n",
    "#         if average_score > best_score:\n",
    "#             best_score = average_score\n",
    "#             best_trees = trees\n",
    "#             best_depth = depth\n",
    "\n",
    "# # Fit model on entire train set using chosen number of trees and depth\n",
    "# model = RandomForestClassifier(n_estimators=best_trees, max_depth=best_depth)\n",
    "# model.fit(x_train_red, y_train)\n",
    "\n",
    "# print 'Chosen number of trees, depth:', best_trees, ',', best_depth\n",
    "# print 'Test accuracy:', model.score(x_test_red, y_test)"
   ]
  },
  {
   "cell_type": "code",
   "execution_count": 283,
   "metadata": {
    "collapsed": false
   },
   "outputs": [],
   "source": [
    "new_trainer = rand_1400.sample(frac=.5)\n",
    "new_tester = rand_1400.drop(new_trainer.index.tolist())\n",
    "\n",
    "tr_numerator = new_trainer['HelpfulnessNumerator'].values\n",
    "tr_denominator = (new_trainer['HelpfulnessDenominator'].values).astype(float)\n",
    "tr_y = tr_numerator / tr_denominator\n",
    "\n",
    "tr_y[tr_y > 1./2] = 2\n",
    "tr_y[tr_y <= 1./2] = 1\n",
    "te_numerator = new_tester['HelpfulnessNumerator'].values\n",
    "te_denominator = (new_tester['HelpfulnessDenominator'].values).astype(float)\n",
    "te_y = te_numerator / te_denominator\n",
    "te_y = np.nan_to_num(te_y)\n",
    "\n",
    "te_y[te_y > 1./2] = 2\n",
    "te_y[te_y <= 1./2] = 1"
   ]
  },
  {
   "cell_type": "code",
   "execution_count": 284,
   "metadata": {
    "collapsed": false
   },
   "outputs": [
    {
     "name": "stdout",
     "output_type": "stream",
     "text": [
      "0.795714285714\n"
     ]
    }
   ],
   "source": [
    "text_clf = Pipeline([('vect', CountVectorizer(stop_words='english', min_df=1, binary=True)), ('tfidf', TfidfTransformer()), ('clf', MultinomialNB()),])\n",
    "text_clf = text_clf.fit(new_trainer['Text'].values, tr_y)\n",
    "predicted = text_clf.predict(new_tester['Text'].values)\n",
    "print np.mean(predicted==te_y)"
   ]
  },
  {
   "cell_type": "code",
   "execution_count": 285,
   "metadata": {
    "collapsed": false
   },
   "outputs": [
    {
     "name": "stdout",
     "output_type": "stream",
     "text": [
      "0.805714285714\n"
     ]
    }
   ],
   "source": [
    "parameters = {'vect__ngram_range': [(1, 1), (1, 2)], 'tfidf__use_idf': (True, False), 'clf__alpha': (1e-2, 1e-3),}\n",
    "gs_clf = GridSearchCV(text_clf, parameters, n_jobs=-1)\n",
    "gs_clf = gs_clf.fit(new_trainer['Text'].values, tr_y)\n",
    "cv_predicted = gs_clf.predict(new_tester['Text'].values)\n",
    "print np.mean(cv_predicted==te_y)"
   ]
  },
  {
   "cell_type": "code",
   "execution_count": 286,
   "metadata": {
    "collapsed": false
   },
   "outputs": [],
   "source": [
    "# one4one, one4two, one4three, two4one, two4two, two4three, three4one, three4two, three4three = confusion_matrix(y, cv_predicted).ravel() #from sklearn docs\n",
    "\n",
    "# print \"\\n\\nWITH CLASS BALANCE CORRECTION\"\n",
    "# print confusion_matrix(y, cv_predicted)"
   ]
  },
  {
   "cell_type": "code",
   "execution_count": 293,
   "metadata": {
    "collapsed": false
   },
   "outputs": [
    {
     "name": "stdout",
     "output_type": "stream",
     "text": [
      "(700,)\n",
      "(700,)\n",
      "\n",
      "\n",
      "WITH CLASS BALANCE CORRECTION\n",
      "[[  9 134]\n",
      " [  2 555]]\n",
      "\n",
      "False Positive Rate: 0.937062937063\n",
      "False Negative Rate: 0.00359066427289\n",
      "True Positive Rate: 0.805515239478\n",
      "True Negative Rate: 0.818181818182\n",
      "\n",
      "Accuracy on 2 Class Helpfulness: 0.996409335727\n",
      "Accuracy on 1 Class Helpfulness: 0.0629370629371\n"
     ]
    }
   ],
   "source": [
    "tn, fp, fn, tp = confusion_matrix(te_y, cv_predicted).ravel() #from sklearn docs\n",
    "print cv_predicted.shape\n",
    "print te_y.shape\n",
    "print \"\\n\\nWITH CLASS BALANCE CORRECTION\"\n",
    "print confusion_matrix(te_y, cv_predicted)\n",
    "print\n",
    "print \"False Positive Rate:\", fp/float(fp+tn)\n",
    "print \"False Negative Rate:\", fn/float(fn+tp)\n",
    "print \"True Positive Rate:\", tp/float(tp+fp)\n",
    "print \"True Negative Rate:\", tn/float(tn+fn)\n",
    "print\n",
    "print \"Accuracy on 2 Class Helpfulness:\", np.mean(cv_predicted[te_y == 2] == te_y[te_y == 2])\n",
    "print \"Accuracy on 1 Class Helpfulness:\", np.mean(cv_predicted[te_y == 1] == te_y[te_y == 1])"
   ]
  },
  {
   "cell_type": "code",
   "execution_count": null,
   "metadata": {
    "collapsed": true
   },
   "outputs": [],
   "source": []
  }
 ],
 "metadata": {
  "anaconda-cloud": {},
  "kernelspec": {
   "display_name": "Python [Root]",
   "language": "python",
   "name": "Python [Root]"
  },
  "language_info": {
   "codemirror_mode": {
    "name": "ipython",
    "version": 2
   },
   "file_extension": ".py",
   "mimetype": "text/x-python",
   "name": "python",
   "nbconvert_exporter": "python",
   "pygments_lexer": "ipython2",
   "version": "2.7.12"
  }
 },
 "nbformat": 4,
 "nbformat_minor": 0
}
